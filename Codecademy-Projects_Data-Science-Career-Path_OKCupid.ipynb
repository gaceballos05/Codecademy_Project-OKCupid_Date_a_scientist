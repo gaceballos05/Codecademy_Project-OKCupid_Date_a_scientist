{
 "cells": [
  {
   "cell_type": "markdown",
   "metadata": {},
   "source": [
    "# Introduction\n",
    "\n",
    "This project analyzes data from on-line dating application OKCupid. In recent years, there has been a massive rise in the usage of dating apps to find love. Many of these apps use sophisticated data science techniques to recommend possible matches to users and to optimize the user experience. These apps give us access to a wealth of information that we've never had before about how different people experience romance.\n",
    "\n",
    "The goal of this project is to scope, prep, analyze, and create a machine learning model to solve a question.\n",
    "\n",
    "***\n",
    "### Data sources:\n",
    "\n",
    "The project has one data set provided by Codecademy called `profiles.csv`. In the data, each row represents an OkCupid user and the columns are the responses to their user profiles which include multi-choice and short answer questions.\n",
    "\n",
    "\n",
    "### Project Goals\n",
    "\n",
    "In this project, the goal is to utilize the skills learned through Codecademy and apply machine learning techniques to a data set. The primary research question that will be answered is if there are important variables that can predict a user’s zodiac signs so we can guess the missing zodiacs when we make matches.\n",
    "\n",
    "### Analysis\n",
    "\n",
    "This solution will use descriptive statistics and data visualization to find key figures in understanding the distribution, count, and relationship between variables. In that way, classification algorithms from the supervised learning will be implemented, since the goal of the project is to identify the best characteristics and preferences to classify  the people and try to predict their zodiac sign.\n",
    "\n",
    "### Evaluation\n",
    "\n",
    "The project will conclude with the evaluation of the machine learning models selected with a validation dataset. The output of the predictions can be checked through a confusion matrix, and metrics such as accuracy, precision, recall and F1.\n",
    "***\n",
    "\n",
    "### 1. Import Python Modules"
   ]
  },
  {
   "cell_type": "code",
   "execution_count": 1,
   "metadata": {},
   "outputs": [],
   "source": [
    "import numpy as np\n",
    "import pandas as pd\n",
    "\n",
    "from matplotlib import pyplot as plt\n",
    "import seaborn as sns\n",
    "\n",
    "from sklearn.model_selection import train_test_split\n",
    "\n",
    "from sklearn.tree import DecisionTreeClassifier\n",
    "from sklearn.neighbors import KNeighborsClassifier\n",
    "\n",
    "from sklearn.metrics import confusion_matrix, classification_report\n",
    "from sklearn.model_selection import KFold\n",
    "from sklearn.model_selection import cross_val_score\n",
    "\n",
    "from sklearn.model_selection import GridSearchCV\n",
    "\n",
    "import warnings\n",
    "warnings.filterwarnings('ignore')"
   ]
  },
  {
   "cell_type": "markdown",
   "metadata": {},
   "source": [
    "### 2. Loading the Data\n",
    "To analyze the user profiles from OkCupid, pandas will be used to load the dataset into a `DataFrame` so that it can be explored and visualized with Python.\n",
    "\n",
    "Here `profiles.csv` is loaded into a `DataFrame` called `df`. The dataframe is then briefly examined to check the contents and composition."
   ]
  },
  {
   "cell_type": "code",
   "execution_count": 2,
   "metadata": {},
   "outputs": [
    {
     "data": {
      "text/html": [
       "<div>\n",
       "<style scoped>\n",
       "    .dataframe tbody tr th:only-of-type {\n",
       "        vertical-align: middle;\n",
       "    }\n",
       "\n",
       "    .dataframe tbody tr th {\n",
       "        vertical-align: top;\n",
       "    }\n",
       "\n",
       "    .dataframe thead th {\n",
       "        text-align: right;\n",
       "    }\n",
       "</style>\n",
       "<table border=\"1\" class=\"dataframe\">\n",
       "  <thead>\n",
       "    <tr style=\"text-align: right;\">\n",
       "      <th></th>\n",
       "      <th>age</th>\n",
       "      <th>body_type</th>\n",
       "      <th>diet</th>\n",
       "      <th>drinks</th>\n",
       "      <th>drugs</th>\n",
       "      <th>education</th>\n",
       "      <th>essay0</th>\n",
       "      <th>essay1</th>\n",
       "      <th>essay2</th>\n",
       "      <th>essay3</th>\n",
       "      <th>...</th>\n",
       "      <th>location</th>\n",
       "      <th>offspring</th>\n",
       "      <th>orientation</th>\n",
       "      <th>pets</th>\n",
       "      <th>religion</th>\n",
       "      <th>sex</th>\n",
       "      <th>sign</th>\n",
       "      <th>smokes</th>\n",
       "      <th>speaks</th>\n",
       "      <th>status</th>\n",
       "    </tr>\n",
       "  </thead>\n",
       "  <tbody>\n",
       "    <tr>\n",
       "      <th>0</th>\n",
       "      <td>22</td>\n",
       "      <td>a little extra</td>\n",
       "      <td>strictly anything</td>\n",
       "      <td>socially</td>\n",
       "      <td>never</td>\n",
       "      <td>working on college/university</td>\n",
       "      <td>about me:&lt;br /&gt;\\n&lt;br /&gt;\\ni would love to think...</td>\n",
       "      <td>currently working as an international agent fo...</td>\n",
       "      <td>making people laugh.&lt;br /&gt;\\nranting about a go...</td>\n",
       "      <td>the way i look. i am a six foot half asian, ha...</td>\n",
       "      <td>...</td>\n",
       "      <td>south san francisco, california</td>\n",
       "      <td>doesn&amp;rsquo;t have kids, but might want them</td>\n",
       "      <td>straight</td>\n",
       "      <td>likes dogs and likes cats</td>\n",
       "      <td>agnosticism and very serious about it</td>\n",
       "      <td>m</td>\n",
       "      <td>gemini</td>\n",
       "      <td>sometimes</td>\n",
       "      <td>english</td>\n",
       "      <td>single</td>\n",
       "    </tr>\n",
       "    <tr>\n",
       "      <th>1</th>\n",
       "      <td>35</td>\n",
       "      <td>average</td>\n",
       "      <td>mostly other</td>\n",
       "      <td>often</td>\n",
       "      <td>sometimes</td>\n",
       "      <td>working on space camp</td>\n",
       "      <td>i am a chef: this is what that means.&lt;br /&gt;\\n1...</td>\n",
       "      <td>dedicating everyday to being an unbelievable b...</td>\n",
       "      <td>being silly. having ridiculous amonts of fun w...</td>\n",
       "      <td>NaN</td>\n",
       "      <td>...</td>\n",
       "      <td>oakland, california</td>\n",
       "      <td>doesn&amp;rsquo;t have kids, but might want them</td>\n",
       "      <td>straight</td>\n",
       "      <td>likes dogs and likes cats</td>\n",
       "      <td>agnosticism but not too serious about it</td>\n",
       "      <td>m</td>\n",
       "      <td>cancer</td>\n",
       "      <td>no</td>\n",
       "      <td>english (fluently), spanish (poorly), french (...</td>\n",
       "      <td>single</td>\n",
       "    </tr>\n",
       "    <tr>\n",
       "      <th>2</th>\n",
       "      <td>38</td>\n",
       "      <td>thin</td>\n",
       "      <td>anything</td>\n",
       "      <td>socially</td>\n",
       "      <td>NaN</td>\n",
       "      <td>graduated from masters program</td>\n",
       "      <td>i'm not ashamed of much, but writing public te...</td>\n",
       "      <td>i make nerdy software for musicians, artists, ...</td>\n",
       "      <td>improvising in different contexts. alternating...</td>\n",
       "      <td>my large jaw and large glasses are the physica...</td>\n",
       "      <td>...</td>\n",
       "      <td>san francisco, california</td>\n",
       "      <td>NaN</td>\n",
       "      <td>straight</td>\n",
       "      <td>has cats</td>\n",
       "      <td>NaN</td>\n",
       "      <td>m</td>\n",
       "      <td>pisces but it doesn&amp;rsquo;t matter</td>\n",
       "      <td>no</td>\n",
       "      <td>english, french, c++</td>\n",
       "      <td>available</td>\n",
       "    </tr>\n",
       "    <tr>\n",
       "      <th>3</th>\n",
       "      <td>23</td>\n",
       "      <td>thin</td>\n",
       "      <td>vegetarian</td>\n",
       "      <td>socially</td>\n",
       "      <td>NaN</td>\n",
       "      <td>working on college/university</td>\n",
       "      <td>i work in a library and go to school. . .</td>\n",
       "      <td>reading things written by old dead people</td>\n",
       "      <td>playing synthesizers and organizing books acco...</td>\n",
       "      <td>socially awkward but i do my best</td>\n",
       "      <td>...</td>\n",
       "      <td>berkeley, california</td>\n",
       "      <td>doesn&amp;rsquo;t want kids</td>\n",
       "      <td>straight</td>\n",
       "      <td>likes cats</td>\n",
       "      <td>NaN</td>\n",
       "      <td>m</td>\n",
       "      <td>pisces</td>\n",
       "      <td>no</td>\n",
       "      <td>english, german (poorly)</td>\n",
       "      <td>single</td>\n",
       "    </tr>\n",
       "    <tr>\n",
       "      <th>4</th>\n",
       "      <td>29</td>\n",
       "      <td>athletic</td>\n",
       "      <td>NaN</td>\n",
       "      <td>socially</td>\n",
       "      <td>never</td>\n",
       "      <td>graduated from college/university</td>\n",
       "      <td>hey how's it going? currently vague on the pro...</td>\n",
       "      <td>work work work work + play</td>\n",
       "      <td>creating imagery to look at:&lt;br /&gt;\\nhttp://bag...</td>\n",
       "      <td>i smile a lot and my inquisitive nature</td>\n",
       "      <td>...</td>\n",
       "      <td>san francisco, california</td>\n",
       "      <td>NaN</td>\n",
       "      <td>straight</td>\n",
       "      <td>likes dogs and likes cats</td>\n",
       "      <td>NaN</td>\n",
       "      <td>m</td>\n",
       "      <td>aquarius</td>\n",
       "      <td>no</td>\n",
       "      <td>english</td>\n",
       "      <td>single</td>\n",
       "    </tr>\n",
       "  </tbody>\n",
       "</table>\n",
       "<p>5 rows × 31 columns</p>\n",
       "</div>"
      ],
      "text/plain": [
       "   age       body_type               diet    drinks      drugs  \\\n",
       "0   22  a little extra  strictly anything  socially      never   \n",
       "1   35         average       mostly other     often  sometimes   \n",
       "2   38            thin           anything  socially        NaN   \n",
       "3   23            thin         vegetarian  socially        NaN   \n",
       "4   29        athletic                NaN  socially      never   \n",
       "\n",
       "                           education  \\\n",
       "0      working on college/university   \n",
       "1              working on space camp   \n",
       "2     graduated from masters program   \n",
       "3      working on college/university   \n",
       "4  graduated from college/university   \n",
       "\n",
       "                                              essay0  \\\n",
       "0  about me:<br />\\n<br />\\ni would love to think...   \n",
       "1  i am a chef: this is what that means.<br />\\n1...   \n",
       "2  i'm not ashamed of much, but writing public te...   \n",
       "3          i work in a library and go to school. . .   \n",
       "4  hey how's it going? currently vague on the pro...   \n",
       "\n",
       "                                              essay1  \\\n",
       "0  currently working as an international agent fo...   \n",
       "1  dedicating everyday to being an unbelievable b...   \n",
       "2  i make nerdy software for musicians, artists, ...   \n",
       "3          reading things written by old dead people   \n",
       "4                         work work work work + play   \n",
       "\n",
       "                                              essay2  \\\n",
       "0  making people laugh.<br />\\nranting about a go...   \n",
       "1  being silly. having ridiculous amonts of fun w...   \n",
       "2  improvising in different contexts. alternating...   \n",
       "3  playing synthesizers and organizing books acco...   \n",
       "4  creating imagery to look at:<br />\\nhttp://bag...   \n",
       "\n",
       "                                              essay3  ...  \\\n",
       "0  the way i look. i am a six foot half asian, ha...  ...   \n",
       "1                                                NaN  ...   \n",
       "2  my large jaw and large glasses are the physica...  ...   \n",
       "3                  socially awkward but i do my best  ...   \n",
       "4            i smile a lot and my inquisitive nature  ...   \n",
       "\n",
       "                          location  \\\n",
       "0  south san francisco, california   \n",
       "1              oakland, california   \n",
       "2        san francisco, california   \n",
       "3             berkeley, california   \n",
       "4        san francisco, california   \n",
       "\n",
       "                                      offspring orientation  \\\n",
       "0  doesn&rsquo;t have kids, but might want them    straight   \n",
       "1  doesn&rsquo;t have kids, but might want them    straight   \n",
       "2                                           NaN    straight   \n",
       "3                       doesn&rsquo;t want kids    straight   \n",
       "4                                           NaN    straight   \n",
       "\n",
       "                        pets                                  religion sex  \\\n",
       "0  likes dogs and likes cats     agnosticism and very serious about it   m   \n",
       "1  likes dogs and likes cats  agnosticism but not too serious about it   m   \n",
       "2                   has cats                                       NaN   m   \n",
       "3                 likes cats                                       NaN   m   \n",
       "4  likes dogs and likes cats                                       NaN   m   \n",
       "\n",
       "                                 sign     smokes  \\\n",
       "0                              gemini  sometimes   \n",
       "1                              cancer         no   \n",
       "2  pisces but it doesn&rsquo;t matter         no   \n",
       "3                              pisces         no   \n",
       "4                            aquarius         no   \n",
       "\n",
       "                                              speaks     status  \n",
       "0                                            english     single  \n",
       "1  english (fluently), spanish (poorly), french (...     single  \n",
       "2                               english, french, c++  available  \n",
       "3                           english, german (poorly)     single  \n",
       "4                                            english     single  \n",
       "\n",
       "[5 rows x 31 columns]"
      ]
     },
     "execution_count": 2,
     "metadata": {},
     "output_type": "execute_result"
    }
   ],
   "source": [
    "df = pd.read_csv('profiles.csv')\n",
    "df.head()"
   ]
  },
  {
   "cell_type": "code",
   "execution_count": 3,
   "metadata": {},
   "outputs": [
    {
     "data": {
      "text/plain": [
       "(59946, 31)"
      ]
     },
     "execution_count": 3,
     "metadata": {},
     "output_type": "execute_result"
    }
   ],
   "source": [
    "df.shape"
   ]
  },
  {
   "cell_type": "code",
   "execution_count": 4,
   "metadata": {},
   "outputs": [
    {
     "data": {
      "text/plain": [
       "Index(['age', 'body_type', 'diet', 'drinks', 'drugs', 'education', 'essay0',\n",
       "       'essay1', 'essay2', 'essay3', 'essay4', 'essay5', 'essay6', 'essay7',\n",
       "       'essay8', 'essay9', 'ethnicity', 'height', 'income', 'job',\n",
       "       'last_online', 'location', 'offspring', 'orientation', 'pets',\n",
       "       'religion', 'sex', 'sign', 'smokes', 'speaks', 'status'],\n",
       "      dtype='object')"
      ]
     },
     "execution_count": 4,
     "metadata": {},
     "output_type": "execute_result"
    }
   ],
   "source": [
    "df.columns"
   ]
  },
  {
   "cell_type": "code",
   "execution_count": 5,
   "metadata": {},
   "outputs": [
    {
     "name": "stdout",
     "output_type": "stream",
     "text": [
      "<class 'pandas.core.frame.DataFrame'>\n",
      "RangeIndex: 59946 entries, 0 to 59945\n",
      "Data columns (total 31 columns):\n",
      " #   Column       Non-Null Count  Dtype  \n",
      "---  ------       --------------  -----  \n",
      " 0   age          59946 non-null  int64  \n",
      " 1   body_type    54650 non-null  object \n",
      " 2   diet         35551 non-null  object \n",
      " 3   drinks       56961 non-null  object \n",
      " 4   drugs        45866 non-null  object \n",
      " 5   education    53318 non-null  object \n",
      " 6   essay0       54458 non-null  object \n",
      " 7   essay1       52374 non-null  object \n",
      " 8   essay2       50308 non-null  object \n",
      " 9   essay3       48470 non-null  object \n",
      " 10  essay4       49409 non-null  object \n",
      " 11  essay5       49096 non-null  object \n",
      " 12  essay6       46175 non-null  object \n",
      " 13  essay7       47495 non-null  object \n",
      " 14  essay8       40721 non-null  object \n",
      " 15  essay9       47343 non-null  object \n",
      " 16  ethnicity    54266 non-null  object \n",
      " 17  height       59943 non-null  float64\n",
      " 18  income       59946 non-null  int64  \n",
      " 19  job          51748 non-null  object \n",
      " 20  last_online  59946 non-null  object \n",
      " 21  location     59946 non-null  object \n",
      " 22  offspring    24385 non-null  object \n",
      " 23  orientation  59946 non-null  object \n",
      " 24  pets         40025 non-null  object \n",
      " 25  religion     39720 non-null  object \n",
      " 26  sex          59946 non-null  object \n",
      " 27  sign         48890 non-null  object \n",
      " 28  smokes       54434 non-null  object \n",
      " 29  speaks       59896 non-null  object \n",
      " 30  status       59946 non-null  object \n",
      "dtypes: float64(1), int64(2), object(28)\n",
      "memory usage: 14.2+ MB\n"
     ]
    }
   ],
   "source": [
    "df.info()"
   ]
  },
  {
   "cell_type": "markdown",
   "metadata": {},
   "source": [
    "##### Data Characteristics\n",
    "\n",
    "In the first view, it is possible to see that `df` has 59.946 rows and 31 columns with some `Nan` values. \n",
    "\n",
    "The columns in the dataset include: \n",
    "\n",
    "- **age:** continuous variable of age of user\n",
    "- **body_type:** categorical variable of body type of user\n",
    "- **diet:** categorical variable of dietary information\n",
    "- **drinks:**  categorical variable of alcohol consumption\n",
    "- **drugs:** categorical variable of drug usage\n",
    "- **education:** categorical variable of educational attainment\n",
    "- **ethnicity:** categorical variable of ethnic backgrounds\n",
    "- **height:** continuous variable of height of user\n",
    "- **income:** continuous variable of income of user\n",
    "- **job:** categorical variable of employment description\n",
    "- **offspring:** categorical variable of children status\n",
    "- **orientation:** categorical variable of sexual orientation\n",
    "- **pets:** categorical variable of pet preferences\n",
    "- **religion:** categorical variable of religious background\n",
    "- **sex:** categorical variable of gender\n",
    "- **sign:** categorical variable of astrological symbol\n",
    "- **smokes:** categorical variable of smoking consumption\n",
    "- **speaks:** categorical variable of language spoken\n",
    "- **status:** categorical variable of relationship status\n",
    "- **last_online:** date variable of last login\n",
    "- **location:** categorical variable of user locations\n",
    "\n",
    "And a set of open short-answer in the columns `essay0` to `essay9`. I will delete them because I believe they are not good predictors for the different clusters. "
   ]
  },
  {
   "cell_type": "code",
   "execution_count": 6,
   "metadata": {},
   "outputs": [
    {
     "data": {
      "text/plain": [
       "Index(['age', 'body_type', 'diet', 'drinks', 'drugs', 'education', 'ethnicity',\n",
       "       'height', 'income', 'job', 'last_online', 'location', 'offspring',\n",
       "       'orientation', 'pets', 'religion', 'sex', 'sign', 'smokes', 'speaks',\n",
       "       'status'],\n",
       "      dtype='object')"
      ]
     },
     "execution_count": 6,
     "metadata": {},
     "output_type": "execute_result"
    }
   ],
   "source": [
    "df1 = df.drop(['essay0','essay1', 'essay2', 'essay3', 'essay4', 'essay5', 'essay6', 'essay7','essay8', 'essay9'], axis=1)\n",
    "df1.columns"
   ]
  },
  {
   "cell_type": "markdown",
   "metadata": {},
   "source": [
    "### 3. Exploratory Data Analysis.\n",
    "First to be explored is the number of unique values in each feature."
   ]
  },
  {
   "cell_type": "code",
   "execution_count": 7,
   "metadata": {
    "scrolled": false
   },
   "outputs": [
    {
     "name": "stdout",
     "output_type": "stream",
     "text": [
      "Columns age\n",
      "Number of categories: 54\n",
      "----------------------------------------------------------------------------------------------------\n",
      "Columns body_type\n",
      "Number of categories: 12\n",
      "----------------------------------------------------------------------------------------------------\n",
      "Columns diet\n",
      "Number of categories: 18\n",
      "----------------------------------------------------------------------------------------------------\n",
      "Columns drinks\n",
      "Number of categories: 6\n",
      "----------------------------------------------------------------------------------------------------\n",
      "Columns drugs\n",
      "Number of categories: 3\n",
      "----------------------------------------------------------------------------------------------------\n",
      "Columns education\n",
      "Number of categories: 32\n",
      "----------------------------------------------------------------------------------------------------\n",
      "Columns ethnicity\n",
      "Number of categories: 217\n",
      "----------------------------------------------------------------------------------------------------\n",
      "Columns height\n",
      "Number of categories: 60\n",
      "----------------------------------------------------------------------------------------------------\n",
      "Columns income\n",
      "Number of categories: 13\n",
      "----------------------------------------------------------------------------------------------------\n",
      "Columns job\n",
      "Number of categories: 21\n",
      "----------------------------------------------------------------------------------------------------\n",
      "Columns last_online\n",
      "Number of categories: 30123\n",
      "----------------------------------------------------------------------------------------------------\n",
      "Columns location\n",
      "Number of categories: 199\n",
      "----------------------------------------------------------------------------------------------------\n",
      "Columns offspring\n",
      "Number of categories: 15\n",
      "----------------------------------------------------------------------------------------------------\n",
      "Columns orientation\n",
      "Number of categories: 3\n",
      "----------------------------------------------------------------------------------------------------\n",
      "Columns pets\n",
      "Number of categories: 15\n",
      "----------------------------------------------------------------------------------------------------\n",
      "Columns religion\n",
      "Number of categories: 45\n",
      "----------------------------------------------------------------------------------------------------\n",
      "Columns sex\n",
      "Number of categories: 2\n",
      "----------------------------------------------------------------------------------------------------\n",
      "Columns sign\n",
      "Number of categories: 48\n",
      "----------------------------------------------------------------------------------------------------\n",
      "Columns smokes\n",
      "Number of categories: 5\n",
      "----------------------------------------------------------------------------------------------------\n",
      "Columns speaks\n",
      "Number of categories: 7647\n",
      "----------------------------------------------------------------------------------------------------\n",
      "Columns status\n",
      "Number of categories: 5\n",
      "----------------------------------------------------------------------------------------------------\n"
     ]
    }
   ],
   "source": [
    "# Number of uniques categories by feature.\n",
    "columns = df1.columns\n",
    "\n",
    "for i in range(len(columns)):\n",
    "    print('Columns {c}'.format(c = str(columns[i])))\n",
    "    print(\"Number of categories:\",df1[str(columns[i])].nunique())\n",
    "    print('-' * 100)"
   ]
  },
  {
   "cell_type": "markdown",
   "metadata": {},
   "source": [
    "Looking at the quantity of categories in each feature, I will proceed to drop out the next columns because I considered that they have a big quantity of categories and they are not necessary for model. \n",
    "\n",
    "Columns to be drop out:\n",
    "- age\n",
    "- body_type\n",
    "- ethnicity\n",
    "- height\n",
    "- last_online\n",
    "- location\n",
    "- speaks"
   ]
  },
  {
   "cell_type": "code",
   "execution_count": 8,
   "metadata": {},
   "outputs": [
    {
     "data": {
      "text/plain": [
       "Index(['diet', 'drinks', 'drugs', 'education', 'income', 'job', 'offspring',\n",
       "       'orientation', 'pets', 'religion', 'sex', 'sign', 'smokes', 'status'],\n",
       "      dtype='object')"
      ]
     },
     "execution_count": 8,
     "metadata": {},
     "output_type": "execute_result"
    }
   ],
   "source": [
    "df2 = df1.drop(['age','body_type','ethnicity', 'height', 'last_online', 'location', 'speaks'], axis=1)\n",
    "df2.columns"
   ]
  },
  {
   "cell_type": "code",
   "execution_count": 9,
   "metadata": {
    "scrolled": false
   },
   "outputs": [
    {
     "name": "stdout",
     "output_type": "stream",
     "text": [
      "Columns diet\n",
      "Number of categories: ['strictly anything' 'mostly other' 'anything' 'vegetarian' nan\n",
      " 'mostly anything' 'mostly vegetarian' 'strictly vegan'\n",
      " 'strictly vegetarian' 'mostly vegan' 'strictly other' 'mostly halal'\n",
      " 'other' 'vegan' 'mostly kosher' 'strictly halal' 'halal'\n",
      " 'strictly kosher' 'kosher']\n",
      "----------------------------------------------------------------------------------------------------\n",
      "Columns drinks\n",
      "Number of categories: ['socially' 'often' 'not at all' 'rarely' nan 'very often' 'desperately']\n",
      "----------------------------------------------------------------------------------------------------\n",
      "Columns drugs\n",
      "Number of categories: ['never' 'sometimes' nan 'often']\n",
      "----------------------------------------------------------------------------------------------------\n",
      "Columns education\n",
      "Number of categories: ['working on college/university' 'working on space camp'\n",
      " 'graduated from masters program' 'graduated from college/university'\n",
      " 'working on two-year college' nan 'graduated from high school'\n",
      " 'working on masters program' 'graduated from space camp'\n",
      " 'college/university' 'dropped out of space camp'\n",
      " 'graduated from ph.d program' 'graduated from law school'\n",
      " 'working on ph.d program' 'two-year college'\n",
      " 'graduated from two-year college' 'working on med school'\n",
      " 'dropped out of college/university' 'space camp'\n",
      " 'graduated from med school' 'dropped out of high school'\n",
      " 'working on high school' 'masters program' 'dropped out of ph.d program'\n",
      " 'dropped out of two-year college' 'dropped out of med school'\n",
      " 'high school' 'working on law school' 'law school'\n",
      " 'dropped out of masters program' 'ph.d program'\n",
      " 'dropped out of law school' 'med school']\n",
      "----------------------------------------------------------------------------------------------------\n",
      "Columns income\n",
      "Number of categories: [     -1   80000   20000   40000   30000   50000   60000 1000000  150000\n",
      "  100000  500000   70000  250000]\n",
      "----------------------------------------------------------------------------------------------------\n",
      "Columns job\n",
      "Number of categories: ['transportation' 'hospitality / travel' nan 'student'\n",
      " 'artistic / musical / writer' 'computer / hardware / software'\n",
      " 'banking / financial / real estate' 'entertainment / media'\n",
      " 'sales / marketing / biz dev' 'other' 'medicine / health'\n",
      " 'science / tech / engineering' 'executive / management'\n",
      " 'education / academia' 'clerical / administrative'\n",
      " 'construction / craftsmanship' 'rather not say' 'political / government'\n",
      " 'law / legal services' 'unemployed' 'military' 'retired']\n",
      "----------------------------------------------------------------------------------------------------\n",
      "Columns offspring\n",
      "Number of categories: ['doesn&rsquo;t have kids, but might want them' nan\n",
      " 'doesn&rsquo;t want kids' 'doesn&rsquo;t have kids, but wants them'\n",
      " 'doesn&rsquo;t have kids' 'wants kids' 'has a kid' 'has kids'\n",
      " 'doesn&rsquo;t have kids, and doesn&rsquo;t want any'\n",
      " 'has kids, but doesn&rsquo;t want more'\n",
      " 'has a kid, but doesn&rsquo;t want more' 'has a kid, and wants more'\n",
      " 'has kids, and might want more' 'might want kids'\n",
      " 'has a kid, and might want more' 'has kids, and wants more']\n",
      "----------------------------------------------------------------------------------------------------\n",
      "Columns orientation\n",
      "Number of categories: ['straight' 'bisexual' 'gay']\n",
      "----------------------------------------------------------------------------------------------------\n",
      "Columns pets\n",
      "Number of categories: ['likes dogs and likes cats' 'has cats' 'likes cats' nan\n",
      " 'has dogs and likes cats' 'likes dogs and has cats'\n",
      " 'likes dogs and dislikes cats' 'has dogs' 'has dogs and dislikes cats'\n",
      " 'likes dogs' 'has dogs and has cats' 'dislikes dogs and has cats'\n",
      " 'dislikes dogs and dislikes cats' 'dislikes cats'\n",
      " 'dislikes dogs and likes cats' 'dislikes dogs']\n",
      "----------------------------------------------------------------------------------------------------\n",
      "Columns religion\n",
      "Number of categories: ['agnosticism and very serious about it'\n",
      " 'agnosticism but not too serious about it' nan 'atheism' 'christianity'\n",
      " 'christianity but not too serious about it'\n",
      " 'atheism and laughing about it' 'christianity and very serious about it'\n",
      " 'other' 'catholicism' 'catholicism but not too serious about it'\n",
      " 'catholicism and somewhat serious about it'\n",
      " 'agnosticism and somewhat serious about it'\n",
      " 'catholicism and laughing about it' 'agnosticism and laughing about it'\n",
      " 'agnosticism' 'atheism and somewhat serious about it'\n",
      " 'buddhism but not too serious about it'\n",
      " 'other but not too serious about it' 'buddhism'\n",
      " 'other and laughing about it' 'judaism but not too serious about it'\n",
      " 'buddhism and laughing about it' 'other and somewhat serious about it'\n",
      " 'other and very serious about it' 'hinduism but not too serious about it'\n",
      " 'atheism but not too serious about it' 'judaism'\n",
      " 'christianity and somewhat serious about it'\n",
      " 'hinduism and very serious about it' 'atheism and very serious about it'\n",
      " 'judaism and laughing about it' 'christianity and laughing about it'\n",
      " 'hinduism and laughing about it' 'buddhism and somewhat serious about it'\n",
      " 'islam and very serious about it' 'islam' 'hinduism'\n",
      " 'judaism and somewhat serious about it'\n",
      " 'catholicism and very serious about it'\n",
      " 'judaism and very serious about it'\n",
      " 'hinduism and somewhat serious about it'\n",
      " 'islam but not too serious about it' 'buddhism and very serious about it'\n",
      " 'islam and laughing about it' 'islam and somewhat serious about it']\n",
      "----------------------------------------------------------------------------------------------------\n",
      "Columns sex\n",
      "Number of categories: ['m' 'f']\n",
      "----------------------------------------------------------------------------------------------------\n",
      "Columns sign\n",
      "Number of categories: ['gemini' 'cancer' 'pisces but it doesn&rsquo;t matter' 'pisces'\n",
      " 'aquarius' 'taurus' 'virgo' 'sagittarius'\n",
      " 'gemini but it doesn&rsquo;t matter' 'cancer but it doesn&rsquo;t matter'\n",
      " 'leo but it doesn&rsquo;t matter' nan\n",
      " 'aquarius but it doesn&rsquo;t matter'\n",
      " 'aries and it&rsquo;s fun to think about'\n",
      " 'libra but it doesn&rsquo;t matter'\n",
      " 'pisces and it&rsquo;s fun to think about' 'libra'\n",
      " 'taurus but it doesn&rsquo;t matter'\n",
      " 'sagittarius but it doesn&rsquo;t matter' 'scorpio and it matters a lot'\n",
      " 'gemini and it&rsquo;s fun to think about'\n",
      " 'leo and it&rsquo;s fun to think about'\n",
      " 'cancer and it&rsquo;s fun to think about'\n",
      " 'libra and it&rsquo;s fun to think about'\n",
      " 'aquarius and it&rsquo;s fun to think about'\n",
      " 'virgo but it doesn&rsquo;t matter'\n",
      " 'scorpio and it&rsquo;s fun to think about'\n",
      " 'capricorn but it doesn&rsquo;t matter' 'scorpio'\n",
      " 'capricorn and it&rsquo;s fun to think about' 'leo'\n",
      " 'aries but it doesn&rsquo;t matter' 'aries'\n",
      " 'scorpio but it doesn&rsquo;t matter'\n",
      " 'sagittarius and it&rsquo;s fun to think about'\n",
      " 'libra and it matters a lot' 'taurus and it&rsquo;s fun to think about'\n",
      " 'leo and it matters a lot' 'virgo and it&rsquo;s fun to think about'\n",
      " 'cancer and it matters a lot' 'capricorn' 'pisces and it matters a lot'\n",
      " 'aries and it matters a lot' 'capricorn and it matters a lot'\n",
      " 'aquarius and it matters a lot' 'sagittarius and it matters a lot'\n",
      " 'gemini and it matters a lot' 'taurus and it matters a lot'\n",
      " 'virgo and it matters a lot']\n",
      "----------------------------------------------------------------------------------------------------\n",
      "Columns smokes\n",
      "Number of categories: ['sometimes' 'no' nan 'when drinking' 'yes' 'trying to quit']\n",
      "----------------------------------------------------------------------------------------------------\n",
      "Columns status\n",
      "Number of categories: ['single' 'available' 'seeing someone' 'married' 'unknown']\n",
      "----------------------------------------------------------------------------------------------------\n"
     ]
    }
   ],
   "source": [
    "# Uniques categories by feature.\n",
    "columns = df2.columns\n",
    "\n",
    "for i in range(len(columns)):\n",
    "    print('Columns {c}'.format(c = str(columns[i])))\n",
    "    print(\"Number of categories:\",df1[str(columns[i])].unique())\n",
    "    print('-' * 100)"
   ]
  },
  {
   "cell_type": "markdown",
   "metadata": {},
   "source": [
    "Clean Categories: \n",
    "\n",
    "I will proceed to clean the different categories for theses columns:\n",
    "- **diet:** grouping the 18 categories in 6:  \n",
    "    - *anything* - Will include: 'strictly anything', 'anything', 'mostly anything'\n",
    "    - *vegetarian* - Will include: 'vegetarian', 'mostly vegetarian', 'strictly vegetarian'\n",
    "    - *vegan* - Will include: 'strictly vegan', 'mostly vegan', 'vegan'\n",
    "    - *halal* - Will include: 'mostly halal', 'strictly halal', 'halal'\n",
    "    - *kosher* - Will include: 'mostly kosher', 'strictly kosher', 'kosher'\n",
    "    - *other* -  Will include: 'mostly other', 'strictly other, 'other'\n",
    "    \n",
    "\n",
    "- **education:** grouping the 32 categories in 13\n",
    "    - *high school* - Will include: 'working on high school', 'high school'\n",
    "    - *college/university* - Will include: 'working on two-year college', 'working on college/university', 'college/university', 'graduated from law school', 'two-year college', 'working on med school', 'working on law school', 'law school', 'med school'\n",
    "    - *masters program - Will include* - 'working on masters program', 'masters program'\n",
    "    - *ph.d program - Will include* -  'working on ph.d program', 'ph.d program'\n",
    "    - *graduated from high school* - Will include: 'graduated from high school'\n",
    "    - *graduated from college/university* - Will include:  'graduated from college/university', 'graduated from two-year college', 'graduated from med school'\n",
    "    - *graduated from masters program* - Will include:  'graduated from masters program'\n",
    "    - *graduated from ph.d program* - Will include:  'graduated from ph.d program'\n",
    "    - *dropped out of high school* - Will include:  'dropped out of high school'\n",
    "    - *dropped out of college/university* - Will include:  'dropped out of college/university', 'dropped out of two-year college', 'dropped out of med school', 'dropped out of law school'\n",
    "    - *dropped out of masters program* -Will include:  'dropped out of masters program'\n",
    "    - *dropped out of ph.d program* -Will include:  'dropped out of ph.d program'\n",
    "    - *other categories*- Will include - Will include: 'working on space camp', 'graduated from space camp', 'dropped out of space camp', 'space camp'\n",
    "\n",
    "- **religion:** Leaving only the first Religion that the person choosen. \n",
    "\n",
    "- **sign:** Leaving only 12 categories.  "
   ]
  },
  {
   "cell_type": "code",
   "execution_count": 10,
   "metadata": {},
   "outputs": [
    {
     "data": {
      "text/html": [
       "<div>\n",
       "<style scoped>\n",
       "    .dataframe tbody tr th:only-of-type {\n",
       "        vertical-align: middle;\n",
       "    }\n",
       "\n",
       "    .dataframe tbody tr th {\n",
       "        vertical-align: top;\n",
       "    }\n",
       "\n",
       "    .dataframe thead th {\n",
       "        text-align: right;\n",
       "    }\n",
       "</style>\n",
       "<table border=\"1\" class=\"dataframe\">\n",
       "  <thead>\n",
       "    <tr style=\"text-align: right;\">\n",
       "      <th></th>\n",
       "      <th>diet</th>\n",
       "      <th>new_diet</th>\n",
       "    </tr>\n",
       "  </thead>\n",
       "  <tbody>\n",
       "    <tr>\n",
       "      <th>0</th>\n",
       "      <td>strictly anything</td>\n",
       "      <td>Anything</td>\n",
       "    </tr>\n",
       "    <tr>\n",
       "      <th>1</th>\n",
       "      <td>mostly other</td>\n",
       "      <td>Other</td>\n",
       "    </tr>\n",
       "    <tr>\n",
       "      <th>2</th>\n",
       "      <td>anything</td>\n",
       "      <td>Anything</td>\n",
       "    </tr>\n",
       "    <tr>\n",
       "      <th>3</th>\n",
       "      <td>vegetarian</td>\n",
       "      <td>Vegetarian</td>\n",
       "    </tr>\n",
       "    <tr>\n",
       "      <th>4</th>\n",
       "      <td>NaN</td>\n",
       "      <td>NaN</td>\n",
       "    </tr>\n",
       "    <tr>\n",
       "      <th>5</th>\n",
       "      <td>mostly anything</td>\n",
       "      <td>Anything</td>\n",
       "    </tr>\n",
       "    <tr>\n",
       "      <th>6</th>\n",
       "      <td>strictly anything</td>\n",
       "      <td>Anything</td>\n",
       "    </tr>\n",
       "    <tr>\n",
       "      <th>7</th>\n",
       "      <td>mostly anything</td>\n",
       "      <td>Anything</td>\n",
       "    </tr>\n",
       "    <tr>\n",
       "      <th>8</th>\n",
       "      <td>strictly anything</td>\n",
       "      <td>Anything</td>\n",
       "    </tr>\n",
       "    <tr>\n",
       "      <th>9</th>\n",
       "      <td>mostly anything</td>\n",
       "      <td>Anything</td>\n",
       "    </tr>\n",
       "  </tbody>\n",
       "</table>\n",
       "</div>"
      ],
      "text/plain": [
       "                diet    new_diet\n",
       "0  strictly anything    Anything\n",
       "1       mostly other       Other\n",
       "2           anything    Anything\n",
       "3         vegetarian  Vegetarian\n",
       "4                NaN         NaN\n",
       "5    mostly anything    Anything\n",
       "6  strictly anything    Anything\n",
       "7    mostly anything    Anything\n",
       "8  strictly anything    Anything\n",
       "9    mostly anything    Anything"
      ]
     },
     "execution_count": 10,
     "metadata": {},
     "output_type": "execute_result"
    }
   ],
   "source": [
    "# DIET VARIABLE\n",
    "# I will create a new column with null values.\n",
    "df2['new_diet'] = 'Nan'\n",
    "\n",
    "# I will create a different diet categories.\n",
    "anything = ['strictly anything', 'anything', 'mostly anything']\n",
    "vegetarian = ['vegetarian', 'mostly vegetarian', 'strictly vegetarian']\n",
    "vegan = ['strictly vegan', 'mostly vegan', 'vegan']\n",
    "halal = ['mostly halal', 'strictly halal', 'halal']\n",
    "kosher = ['mostly kosher', 'strictly kosher', 'kosher']\n",
    "other = ['mostly other', 'strictly other', 'other']\n",
    "\n",
    "# I will refill the new column with the apropiate diet category.\n",
    "df2['new_diet'] = df2.diet.replace(anything, \"Anything\")\n",
    "df2['new_diet'] = df2.new_diet.replace(vegetarian, \"Vegetarian\")\n",
    "df2['new_diet'] = df2.new_diet.replace(vegan, \"Vegan\")\n",
    "df2['new_diet'] = df2.new_diet.replace(halal, \"Halal\")\n",
    "df2['new_diet'] = df2.new_diet.replace(kosher, \"Kosher\")\n",
    "df2['new_diet'] = df2.new_diet.replace(other, \"Other\")\n",
    "\n",
    "df2[['diet', 'new_diet']].head(10)"
   ]
  },
  {
   "cell_type": "code",
   "execution_count": 11,
   "metadata": {},
   "outputs": [
    {
     "name": "stdout",
     "output_type": "stream",
     "text": [
      "Number of categories: 6\n"
     ]
    }
   ],
   "source": [
    "# Checking the number of categories in new_diet\n",
    "print(\"Number of categories:\",str(df2.new_diet.nunique()))"
   ]
  },
  {
   "cell_type": "code",
   "execution_count": 12,
   "metadata": {},
   "outputs": [
    {
     "data": {
      "text/html": [
       "<div>\n",
       "<style scoped>\n",
       "    .dataframe tbody tr th:only-of-type {\n",
       "        vertical-align: middle;\n",
       "    }\n",
       "\n",
       "    .dataframe tbody tr th {\n",
       "        vertical-align: top;\n",
       "    }\n",
       "\n",
       "    .dataframe thead th {\n",
       "        text-align: right;\n",
       "    }\n",
       "</style>\n",
       "<table border=\"1\" class=\"dataframe\">\n",
       "  <thead>\n",
       "    <tr style=\"text-align: right;\">\n",
       "      <th></th>\n",
       "      <th>education</th>\n",
       "      <th>new_education</th>\n",
       "    </tr>\n",
       "  </thead>\n",
       "  <tbody>\n",
       "    <tr>\n",
       "      <th>0</th>\n",
       "      <td>working on college/university</td>\n",
       "      <td>college/university</td>\n",
       "    </tr>\n",
       "    <tr>\n",
       "      <th>1</th>\n",
       "      <td>working on space camp</td>\n",
       "      <td>other categories</td>\n",
       "    </tr>\n",
       "    <tr>\n",
       "      <th>2</th>\n",
       "      <td>graduated from masters program</td>\n",
       "      <td>graduated from masters program</td>\n",
       "    </tr>\n",
       "    <tr>\n",
       "      <th>3</th>\n",
       "      <td>working on college/university</td>\n",
       "      <td>college/university</td>\n",
       "    </tr>\n",
       "    <tr>\n",
       "      <th>4</th>\n",
       "      <td>graduated from college/university</td>\n",
       "      <td>graduated from college/university</td>\n",
       "    </tr>\n",
       "    <tr>\n",
       "      <th>5</th>\n",
       "      <td>graduated from college/university</td>\n",
       "      <td>graduated from college/university</td>\n",
       "    </tr>\n",
       "    <tr>\n",
       "      <th>6</th>\n",
       "      <td>graduated from college/university</td>\n",
       "      <td>graduated from college/university</td>\n",
       "    </tr>\n",
       "    <tr>\n",
       "      <th>7</th>\n",
       "      <td>graduated from college/university</td>\n",
       "      <td>graduated from college/university</td>\n",
       "    </tr>\n",
       "    <tr>\n",
       "      <th>8</th>\n",
       "      <td>graduated from college/university</td>\n",
       "      <td>graduated from college/university</td>\n",
       "    </tr>\n",
       "    <tr>\n",
       "      <th>9</th>\n",
       "      <td>working on two-year college</td>\n",
       "      <td>college/university</td>\n",
       "    </tr>\n",
       "  </tbody>\n",
       "</table>\n",
       "</div>"
      ],
      "text/plain": [
       "                           education                      new_education\n",
       "0      working on college/university                 college/university\n",
       "1              working on space camp                   other categories\n",
       "2     graduated from masters program     graduated from masters program\n",
       "3      working on college/university                 college/university\n",
       "4  graduated from college/university  graduated from college/university\n",
       "5  graduated from college/university  graduated from college/university\n",
       "6  graduated from college/university  graduated from college/university\n",
       "7  graduated from college/university  graduated from college/university\n",
       "8  graduated from college/university  graduated from college/university\n",
       "9        working on two-year college                 college/university"
      ]
     },
     "execution_count": 12,
     "metadata": {},
     "output_type": "execute_result"
    }
   ],
   "source": [
    "# EDUCATION VARIABLE.\n",
    "# I will create a new column with null values.\n",
    "df2['new_education'] = 'Nan'\n",
    "\n",
    "# I will create a different diet categories.\n",
    "high_school = ['working on high school', 'high school']\n",
    "college_university = ['working on two-year college', 'working on college/university', \n",
    "                      'college/university', 'graduated from law school', 'two-year college', \n",
    "                      'working on med school', 'working on law school', 'law school', 'med school']\n",
    "masters = ['working on masters program', 'masters program']\n",
    "phd = ['working on ph.d program', 'ph.d program']\n",
    "graduated_college_university = ['graduated from college/university', 'graduated from two-year college', \n",
    "                                'graduated from med school']\n",
    "dropped_college_university = ['dropped out of college/university', 'dropped out of two-year college', \n",
    "                              'dropped out of med school', 'dropped out of law school']\n",
    "other_categories = ['working on space camp', 'graduated from space camp', 'dropped out of space camp', 'space camp']\n",
    "\n",
    "\n",
    "# I will refill the new column with the apropiate diet category.\n",
    "df2['new_education'] = df2.education.replace(high_school, \"high school\")\n",
    "df2['new_education'] = df2.new_education.replace(college_university, \"college/university\")\n",
    "df2['new_education'] = df2.new_education.replace(masters, \"masters program\")\n",
    "df2['new_education'] = df2.new_education.replace(phd, \"ph.d program\")\n",
    "df2['new_education'] = df2.new_education.replace(graduated_college_university, \"graduated from college/university\")\n",
    "df2['new_education'] = df2.new_education.replace(dropped_college_university, \"dropped out of college/university\")\n",
    "df2['new_education'] = df2.new_education.replace(other_categories, \"other categories\")\n",
    "\n",
    "\n",
    "df2[['education', 'new_education']].head(10)"
   ]
  },
  {
   "cell_type": "code",
   "execution_count": 13,
   "metadata": {},
   "outputs": [
    {
     "name": "stdout",
     "output_type": "stream",
     "text": [
      "Number of categories: 13\n"
     ]
    }
   ],
   "source": [
    "# Checking the number of categories in new_education\n",
    "print(\"Number of categories:\",str(df2.new_education.nunique()))"
   ]
  },
  {
   "cell_type": "code",
   "execution_count": 14,
   "metadata": {},
   "outputs": [
    {
     "name": "stdout",
     "output_type": "stream",
     "text": [
      "Number of categories: 9\n",
      "Categories: ['agnosticism' nan 'atheism' 'christianity' 'other' 'catholicism'\n",
      " 'buddhism' 'judaism' 'hinduism' 'islam']\n"
     ]
    }
   ],
   "source": [
    "# Cleaning Religion column.\n",
    "df2['new_religion'] = df2.religion.str.split().str.get(0)\n",
    "print(\"Number of categories:\",df2.new_religion.nunique())\n",
    "print(\"Categories:\", df2.new_religion.unique())"
   ]
  },
  {
   "cell_type": "code",
   "execution_count": 15,
   "metadata": {},
   "outputs": [
    {
     "name": "stdout",
     "output_type": "stream",
     "text": [
      "Number of categories: 12\n",
      "Categories: ['gemini' 'cancer' 'pisces' 'aquarius' 'taurus' 'virgo' 'sagittarius'\n",
      " 'leo' nan 'aries' 'libra' 'scorpio' 'capricorn']\n"
     ]
    }
   ],
   "source": [
    "# Clening Signs column.\n",
    "df2['new_signs'] = df2.sign.str.split().str.get(0)\n",
    "print(\"Number of categories:\",df2.new_signs.nunique())\n",
    "print(\"Categories:\", df2.new_signs.unique())"
   ]
  },
  {
   "cell_type": "code",
   "execution_count": 16,
   "metadata": {},
   "outputs": [],
   "source": [
    "# Delete the old columns, rename the new ones.\n",
    "df2 = df2.drop(['diet', 'education','religion', 'sign'], axis = 1)"
   ]
  },
  {
   "cell_type": "code",
   "execution_count": 17,
   "metadata": {},
   "outputs": [
    {
     "data": {
      "text/plain": [
       "Index(['drinks', 'drugs', 'income', 'job', 'offspring', 'orientation', 'pets',\n",
       "       'sex', 'smokes', 'status', 'diet', 'education', 'religion', 'signs'],\n",
       "      dtype='object')"
      ]
     },
     "execution_count": 17,
     "metadata": {},
     "output_type": "execute_result"
    }
   ],
   "source": [
    "df2.rename(columns = {'new_diet': 'diet', 'new_education' : 'education', \n",
    "                      'new_religion':'religion', 'new_signs' :  'signs'}, inplace = True)\n",
    "df2.columns"
   ]
  },
  {
   "cell_type": "markdown",
   "metadata": {},
   "source": [
    "#### Visualizing the data: \n",
    "I will proceed to visualizing the different features using the seaborn library:\n",
    "\n",
    "In the first plot, it is possible to see that there are more males than females in the data. The second plot is telling us that there are more straight people than bisexual or gay. But, in the same times, it is possible to notice that there are more bisexual females and more male gays. In the last plot we can check that there are more people single than the other states. "
   ]
  },
  {
   "cell_type": "code",
   "execution_count": 18,
   "metadata": {},
   "outputs": [
    {
     "data": {
      "image/png": "[encoded data removed]",
      "text/plain": [
       "<Figure size 1224x288 with 3 Axes>"
      ]
     },
     "metadata": {
      "needs_background": "light"
     },
     "output_type": "display_data"
    }
   ],
   "source": [
    "sns.set_palette ('Spectral')\n",
    "\n",
    "fig = plt.figure(figsize = (17,4))\n",
    "\n",
    "ax1 = fig.add_subplot(1,3,1)\n",
    "ax1 = sns.countplot(data=df2, x=\"sex\", edgecolor = 'black')\n",
    "ax1.set_title('Users by Sex', fontsize = 15)\n",
    "ax1.set_facecolor('mistyrose')\n",
    "\n",
    "ax2 = fig.add_subplot(1,3,2)\n",
    "ax2 = sns.countplot(data=df2, x=\"orientation\", hue = 'sex', edgecolor = 'black')\n",
    "ax2.set_title('Users by Orientation and Sex', fontsize = 15)\n",
    "ax2.set_facecolor('mistyrose')\n",
    "\n",
    "ax3 = fig.add_subplot(1,3,3)\n",
    "ax3 = sns.countplot(data=df2, x=\"status\", hue = 'sex', edgecolor = 'black')\n",
    "ax3.set_title('Users by Status and Sex', fontsize = 15)\n",
    "ax3.set_facecolor('mistyrose')\n",
    "\n",
    "plt.tight_layout()\n",
    "plt.show()"
   ]
  },
  {
   "cell_type": "markdown",
   "metadata": {},
   "source": [
    "Corroborating the following four graphs: \n",
    "- In the graph with the dietary information for users, it is possible to see that most user eat \"Anything\", followed by \"Vegetarian\".\n",
    "- In the second plot it is possible to check that most of the users are \"Social drinkers\".  \n",
    "- In the third plot, we can see that most users \"never\" use drugs\n",
    "- And in the last graph, similarly for drugs the majority of users chose \"no\" for smoking.\n",
    "- In addition, we detected that, in all categories, the proportion of males are higher than the females."
   ]
  },
  {
   "cell_type": "code",
   "execution_count": 19,
   "metadata": {},
   "outputs": [
    {
     "data": {
      "image/png": "[encoded data removed]",
      "text/plain": [
       "<Figure size 864x576 with 4 Axes>"
      ]
     },
     "metadata": {
      "needs_background": "light"
     },
     "output_type": "display_data"
    }
   ],
   "source": [
    "sns.set_palette ('Dark2')\n",
    "\n",
    "fig = plt.figure(figsize = (12,8))\n",
    "\n",
    "ax1 = fig.add_subplot(2,2,1)\n",
    "ax1 = sns.countplot(data=df2, y=\"diet\", edgecolor = 'black',\n",
    "                    order=df2['diet'].value_counts().sort_values(ascending = False).index)\n",
    "ax1.set_title('Preferred diet type', fontsize = 15)\n",
    "ax1.set_facecolor('#caebd8')\n",
    "\n",
    "ax2 = fig.add_subplot(2,2,2)\n",
    "ax2 = sns.countplot(data=df2, x=\"drinks\", hue = 'sex', edgecolor = 'black',\n",
    "                    order=df2['drinks'].value_counts().sort_values(ascending = False).index)\n",
    "ax2.set_title('Drinkers by sex', fontsize = 15)\n",
    "ax2.set_facecolor('#caebd8')\n",
    "\n",
    "ax3 = fig.add_subplot(2,2,3)\n",
    "ax3 = sns.countplot(data=df2, x=\"drugs\", hue = 'sex', edgecolor = 'black',\n",
    "                   order=df2['drugs'].value_counts().sort_values(ascending = False).index)\n",
    "ax3.set_title('Drug users by sex', fontsize = 15)\n",
    "ax3.set_facecolor('#caebd8')\n",
    "\n",
    "ax4 = fig.add_subplot(2,2,4)\n",
    "ax4 = sns.countplot(data=df2, x=\"smokes\", hue = 'sex', edgecolor = 'black',\n",
    "                   order=df2['smokes'].value_counts().sort_values(ascending = False).index)\n",
    "ax4.set_title('Smokers by Sex', fontsize = 15)\n",
    "ax4.set_facecolor('#caebd8')\n",
    "\n",
    "plt.tight_layout()\n",
    "plt.show()"
   ]
  },
  {
   "cell_type": "markdown",
   "metadata": {},
   "source": [
    "Below you can see the majority of users are graduate from college/university followed by people who are still in college/university and people who is graduated from master programs. If we see the users' jobs graph, it is possible to see that most users don't fit into the categories provided, but there are a fair share of students, tech, computer, artists and business folks."
   ]
  },
  {
   "cell_type": "code",
   "execution_count": 20,
   "metadata": {},
   "outputs": [
    {
     "data": {
      "image/png": "[encoded data removed]",
      "text/plain": [
       "<Figure size 1080x432 with 2 Axes>"
      ]
     },
     "metadata": {
      "needs_background": "light"
     },
     "output_type": "display_data"
    }
   ],
   "source": [
    "sns.set_palette ('Spectral')\n",
    "\n",
    "fig = plt.figure(figsize = (15,6))\n",
    "\n",
    "ax1 = fig.add_subplot(1,2,1)\n",
    "ax1 = sns.countplot(data=df2, y=\"education\", edgecolor = 'black',\n",
    "                    order=df2['education'].value_counts().sort_values(ascending = False).index)\n",
    "ax1.set_title(\"Users' education\", fontsize = 15)\n",
    "ax1.set_facecolor('mistyrose')\n",
    "\n",
    "ax2 = fig.add_subplot(1,2,2)\n",
    "ax2 = sns.countplot(data=df2, y=\"job\", edgecolor = 'black',\n",
    "                    order=df2['job'].value_counts().sort_values(ascending = False).index)\n",
    "ax2.set_title(\"Users' jobs\", fontsize = 15)\n",
    "ax2.set_facecolor('mistyrose')\n",
    "\n",
    "plt.tight_layout()\n",
    "plt.show()"
   ]
  },
  {
   "cell_type": "markdown",
   "metadata": {},
   "source": [
    "In the next charts, the data suggest that most users do not have kids, and most users like dogs and cats."
   ]
  },
  {
   "cell_type": "code",
   "execution_count": 21,
   "metadata": {},
   "outputs": [
    {
     "data": {
      "image/png": "[encoded data removed]",
      "text/plain": [
       "<Figure size 864x576 with 2 Axes>"
      ]
     },
     "metadata": {
      "needs_background": "light"
     },
     "output_type": "display_data"
    }
   ],
   "source": [
    "sns.set_palette ('Dark2')\n",
    "\n",
    "fig = plt.figure(figsize = (12,8))\n",
    "\n",
    "ax1 = fig.add_subplot(2,1,1)\n",
    "ax1 = sns.countplot(data=df2, y=\"offspring\", edgecolor = 'black',\n",
    "                    order=df2['offspring'].value_counts().sort_values(ascending = False).index)\n",
    "ax1.set_title('Offspring', fontsize = 15)\n",
    "ax1.set_facecolor('#caebd8')\n",
    "\n",
    "ax2 = fig.add_subplot(2,1,2)\n",
    "ax2 = sns.countplot(data=df2, y=\"pets\", edgecolor = 'black',\n",
    "                    order=df2['pets'].value_counts().sort_values(ascending = False).index)\n",
    "ax2.set_title(\"Users' Pets preferences by sex\", fontsize = 15)\n",
    "ax2.set_facecolor('#caebd8')\n",
    "\n",
    "plt.tight_layout()\n",
    "plt.show()"
   ]
  },
  {
   "cell_type": "markdown",
   "metadata": {},
   "source": [
    "To end this section, In the users' religion graph we notices that the majority was not very religious identifying as agnostic, other, or atheists. Looking at users signs, there are mainly evenly distributed. However, Capricorns users are the rarest in the dataset and Leo users are the most common."
   ]
  },
  {
   "cell_type": "code",
   "execution_count": 22,
   "metadata": {},
   "outputs": [
    {
     "data": {
      "image/png": "[encoded data removed]",
      "text/plain": [
       "<Figure size 1224x288 with 2 Axes>"
      ]
     },
     "metadata": {
      "needs_background": "light"
     },
     "output_type": "display_data"
    }
   ],
   "source": [
    "fig = plt.figure(figsize = (17,4))\n",
    "\n",
    "ax1 = fig.add_subplot(1,2,1)\n",
    "ax1 = sns.countplot(data=df2, x=\"religion\", palette = ('Spectral'), edgecolor = 'black',\n",
    "                   order=df2['religion'].value_counts().sort_values(ascending = False).index)\n",
    "ax1.set_title('Users Religion')\n",
    "ax1.set_facecolor('mistyrose')\n",
    "\n",
    "ax2 = fig.add_subplot(1,2,2)\n",
    "ax2 = sns.countplot(data=df2, x=\"signs\", palette = ('Spectral'), edgecolor = 'black',\n",
    "                   order=df2['signs'].value_counts().sort_values(ascending = False).index)\n",
    "ax2.set_title('Users signs')\n",
    "ax2.set_facecolor('mistyrose')\n",
    "\n",
    "plt.tight_layout()\n",
    "plt.show()"
   ]
  },
  {
   "cell_type": "markdown",
   "metadata": {},
   "source": [
    "### 4. Data Preperation\n",
    "\n",
    "In this section, and according with the exploratory analysis realized, I will deal with missing data and categorical features. In this way, as first step, I am going to select the features that I consider necessary to predict the zodiac sign of the people."
   ]
  },
  {
   "cell_type": "code",
   "execution_count": 23,
   "metadata": {},
   "outputs": [
    {
     "data": {
      "text/plain": [
       "Index(['drinks', 'drugs', 'income', 'job', 'offspring', 'orientation', 'pets',\n",
       "       'sex', 'smokes', 'status', 'diet', 'education', 'religion', 'signs'],\n",
       "      dtype='object')"
      ]
     },
     "execution_count": 23,
     "metadata": {},
     "output_type": "execute_result"
    }
   ],
   "source": [
    "df2.columns"
   ]
  },
  {
   "cell_type": "code",
   "execution_count": 24,
   "metadata": {},
   "outputs": [],
   "source": [
    "df3 = df2[['sex','status','orientation','drinks','drugs','smokes','signs']]"
   ]
  },
  {
   "cell_type": "code",
   "execution_count": 25,
   "metadata": {},
   "outputs": [
    {
     "data": {
      "text/html": [
       "<div>\n",
       "<style scoped>\n",
       "    .dataframe tbody tr th:only-of-type {\n",
       "        vertical-align: middle;\n",
       "    }\n",
       "\n",
       "    .dataframe tbody tr th {\n",
       "        vertical-align: top;\n",
       "    }\n",
       "\n",
       "    .dataframe thead th {\n",
       "        text-align: right;\n",
       "    }\n",
       "</style>\n",
       "<table border=\"1\" class=\"dataframe\">\n",
       "  <thead>\n",
       "    <tr style=\"text-align: right;\">\n",
       "      <th></th>\n",
       "      <th>sex</th>\n",
       "      <th>status</th>\n",
       "      <th>orientation</th>\n",
       "      <th>drinks</th>\n",
       "      <th>drugs</th>\n",
       "      <th>smokes</th>\n",
       "      <th>signs</th>\n",
       "    </tr>\n",
       "  </thead>\n",
       "  <tbody>\n",
       "    <tr>\n",
       "      <th>0</th>\n",
       "      <td>m</td>\n",
       "      <td>single</td>\n",
       "      <td>straight</td>\n",
       "      <td>socially</td>\n",
       "      <td>never</td>\n",
       "      <td>sometimes</td>\n",
       "      <td>gemini</td>\n",
       "    </tr>\n",
       "    <tr>\n",
       "      <th>1</th>\n",
       "      <td>m</td>\n",
       "      <td>single</td>\n",
       "      <td>straight</td>\n",
       "      <td>often</td>\n",
       "      <td>sometimes</td>\n",
       "      <td>no</td>\n",
       "      <td>cancer</td>\n",
       "    </tr>\n",
       "    <tr>\n",
       "      <th>2</th>\n",
       "      <td>m</td>\n",
       "      <td>available</td>\n",
       "      <td>straight</td>\n",
       "      <td>socially</td>\n",
       "      <td>NaN</td>\n",
       "      <td>no</td>\n",
       "      <td>pisces</td>\n",
       "    </tr>\n",
       "    <tr>\n",
       "      <th>3</th>\n",
       "      <td>m</td>\n",
       "      <td>single</td>\n",
       "      <td>straight</td>\n",
       "      <td>socially</td>\n",
       "      <td>NaN</td>\n",
       "      <td>no</td>\n",
       "      <td>pisces</td>\n",
       "    </tr>\n",
       "    <tr>\n",
       "      <th>4</th>\n",
       "      <td>m</td>\n",
       "      <td>single</td>\n",
       "      <td>straight</td>\n",
       "      <td>socially</td>\n",
       "      <td>never</td>\n",
       "      <td>no</td>\n",
       "      <td>aquarius</td>\n",
       "    </tr>\n",
       "  </tbody>\n",
       "</table>\n",
       "</div>"
      ],
      "text/plain": [
       "  sex     status orientation    drinks      drugs     smokes     signs\n",
       "0   m     single    straight  socially      never  sometimes    gemini\n",
       "1   m     single    straight     often  sometimes         no    cancer\n",
       "2   m  available    straight  socially        NaN         no    pisces\n",
       "3   m     single    straight  socially        NaN         no    pisces\n",
       "4   m     single    straight  socially      never         no  aquarius"
      ]
     },
     "execution_count": 25,
     "metadata": {},
     "output_type": "execute_result"
    }
   ],
   "source": [
    "df3.head()"
   ]
  },
  {
   "cell_type": "markdown",
   "metadata": {},
   "source": [
    "#### Missing Data\n",
    "Missing data is often not handled by machine learning algorithms well and must be checked so they may need to be imputed or removed. It seems that many of the columns do have missing values.\n",
    "\n",
    "Looking at the quantity `Nan` values in some columns (as drugs or signs) I will add a new category that can include those values as a new category called \"Not specified\". In the other columns, I will delete the `Nan` values to create a clean and complete dataset."
   ]
  },
  {
   "cell_type": "code",
   "execution_count": 26,
   "metadata": {},
   "outputs": [
    {
     "name": "stdout",
     "output_type": "stream",
     "text": [
      "(59946, 7)\n"
     ]
    },
    {
     "data": {
      "text/plain": [
       "sex                0\n",
       "status             0\n",
       "orientation        0\n",
       "drinks          2985\n",
       "drugs          14080\n",
       "smokes          5512\n",
       "signs          11056\n",
       "dtype: int64"
      ]
     },
     "execution_count": 26,
     "metadata": {},
     "output_type": "execute_result"
    }
   ],
   "source": [
    "print(df3.shape)\n",
    "df3.isnull().sum()"
   ]
  },
  {
   "cell_type": "code",
   "execution_count": 27,
   "metadata": {},
   "outputs": [],
   "source": [
    "df3['drugs'] = df3.drugs.replace(np.nan, \"Not specified\")\n",
    "df3['signs'] = df3.signs.replace(np.nan, \"Not specified\")"
   ]
  },
  {
   "cell_type": "code",
   "execution_count": 28,
   "metadata": {},
   "outputs": [
    {
     "data": {
      "text/plain": [
       "sex               0\n",
       "status            0\n",
       "orientation       0\n",
       "drinks         2985\n",
       "drugs             0\n",
       "smokes         5512\n",
       "signs             0\n",
       "dtype: int64"
      ]
     },
     "execution_count": 28,
     "metadata": {},
     "output_type": "execute_result"
    }
   ],
   "source": [
    "df3.isnull().sum()"
   ]
  },
  {
   "cell_type": "code",
   "execution_count": 29,
   "metadata": {},
   "outputs": [
    {
     "data": {
      "text/plain": [
       "sex            0\n",
       "status         0\n",
       "orientation    0\n",
       "drinks         0\n",
       "drugs          0\n",
       "smokes         0\n",
       "signs          0\n",
       "dtype: int64"
      ]
     },
     "execution_count": 29,
     "metadata": {},
     "output_type": "execute_result"
    }
   ],
   "source": [
    "df4 = df3.dropna()\n",
    "df4.isnull().sum()"
   ]
  },
  {
   "cell_type": "markdown",
   "metadata": {},
   "source": [
    "#### Categorical features - Dummies variables\n",
    "In this next step, dummies variables are created to deal with the categorical variables. Dummies variables will turn the categories per variable into its own binary identifier. This process is also called *encoding*. \n",
    "\n",
    "Before to apply the transformation of the categorical data, I will split the dataset in 2 different: \n",
    "- Validation Dataset: This dataset will contain all the rows with *Not specified* signs. \n",
    "- Training and Testing Dataset: This dataset will contain the rest of the data. \n",
    "\n",
    "The reason behind this decision is that I will fit the next models with the training and testing dataset and then, I will use the validation dataset with the unknown zodiac signs to predict them.\n",
    "\n",
    "After that, I will define the predictor variables and the target or labels. Finally, I will proceed with the encoding process."
   ]
  },
  {
   "cell_type": "code",
   "execution_count": 30,
   "metadata": {},
   "outputs": [
    {
     "data": {
      "text/plain": [
       "(8744, 7)"
      ]
     },
     "execution_count": 30,
     "metadata": {},
     "output_type": "execute_result"
    }
   ],
   "source": [
    "# Validation dataset\n",
    "mask1 = df4.signs == \"Not specified\"\n",
    "\n",
    "validation_set = df4[mask1]\n",
    "validation_set.shape"
   ]
  },
  {
   "cell_type": "code",
   "execution_count": 31,
   "metadata": {},
   "outputs": [
    {
     "data": {
      "text/plain": [
       "(44658, 7)"
      ]
     },
     "execution_count": 31,
     "metadata": {},
     "output_type": "execute_result"
    }
   ],
   "source": [
    "# Training / Testing Dataset\n",
    "mask2 = df4.signs != \"Not specified\"\n",
    "\n",
    "train_test_set = df4[mask2]\n",
    "train_test_set.shape"
   ]
  },
  {
   "cell_type": "code",
   "execution_count": 32,
   "metadata": {},
   "outputs": [],
   "source": [
    "# Targets and Predictor variables.\n",
    "X = train_test_set.drop(['signs'], axis = 1)\n",
    "y = train_test_set['signs']"
   ]
  },
  {
   "cell_type": "code",
   "execution_count": 33,
   "metadata": {},
   "outputs": [
    {
     "name": "stdout",
     "output_type": "stream",
     "text": [
      "(44658, 19)\n"
     ]
    },
    {
     "data": {
      "text/html": [
       "<div>\n",
       "<style scoped>\n",
       "    .dataframe tbody tr th:only-of-type {\n",
       "        vertical-align: middle;\n",
       "    }\n",
       "\n",
       "    .dataframe tbody tr th {\n",
       "        vertical-align: top;\n",
       "    }\n",
       "\n",
       "    .dataframe thead th {\n",
       "        text-align: right;\n",
       "    }\n",
       "</style>\n",
       "<table border=\"1\" class=\"dataframe\">\n",
       "  <thead>\n",
       "    <tr style=\"text-align: right;\">\n",
       "      <th></th>\n",
       "      <th>sex_m</th>\n",
       "      <th>status_married</th>\n",
       "      <th>status_seeing someone</th>\n",
       "      <th>status_single</th>\n",
       "      <th>status_unknown</th>\n",
       "      <th>orientation_gay</th>\n",
       "      <th>orientation_straight</th>\n",
       "      <th>drinks_not at all</th>\n",
       "      <th>drinks_often</th>\n",
       "      <th>drinks_rarely</th>\n",
       "      <th>drinks_socially</th>\n",
       "      <th>drinks_very often</th>\n",
       "      <th>drugs_never</th>\n",
       "      <th>drugs_often</th>\n",
       "      <th>drugs_sometimes</th>\n",
       "      <th>smokes_sometimes</th>\n",
       "      <th>smokes_trying to quit</th>\n",
       "      <th>smokes_when drinking</th>\n",
       "      <th>smokes_yes</th>\n",
       "    </tr>\n",
       "  </thead>\n",
       "  <tbody>\n",
       "    <tr>\n",
       "      <th>0</th>\n",
       "      <td>1</td>\n",
       "      <td>0</td>\n",
       "      <td>0</td>\n",
       "      <td>1</td>\n",
       "      <td>0</td>\n",
       "      <td>0</td>\n",
       "      <td>1</td>\n",
       "      <td>0</td>\n",
       "      <td>0</td>\n",
       "      <td>0</td>\n",
       "      <td>1</td>\n",
       "      <td>0</td>\n",
       "      <td>1</td>\n",
       "      <td>0</td>\n",
       "      <td>0</td>\n",
       "      <td>1</td>\n",
       "      <td>0</td>\n",
       "      <td>0</td>\n",
       "      <td>0</td>\n",
       "    </tr>\n",
       "    <tr>\n",
       "      <th>1</th>\n",
       "      <td>1</td>\n",
       "      <td>0</td>\n",
       "      <td>0</td>\n",
       "      <td>1</td>\n",
       "      <td>0</td>\n",
       "      <td>0</td>\n",
       "      <td>1</td>\n",
       "      <td>0</td>\n",
       "      <td>1</td>\n",
       "      <td>0</td>\n",
       "      <td>0</td>\n",
       "      <td>0</td>\n",
       "      <td>0</td>\n",
       "      <td>0</td>\n",
       "      <td>1</td>\n",
       "      <td>0</td>\n",
       "      <td>0</td>\n",
       "      <td>0</td>\n",
       "      <td>0</td>\n",
       "    </tr>\n",
       "    <tr>\n",
       "      <th>2</th>\n",
       "      <td>1</td>\n",
       "      <td>0</td>\n",
       "      <td>0</td>\n",
       "      <td>0</td>\n",
       "      <td>0</td>\n",
       "      <td>0</td>\n",
       "      <td>1</td>\n",
       "      <td>0</td>\n",
       "      <td>0</td>\n",
       "      <td>0</td>\n",
       "      <td>1</td>\n",
       "      <td>0</td>\n",
       "      <td>0</td>\n",
       "      <td>0</td>\n",
       "      <td>0</td>\n",
       "      <td>0</td>\n",
       "      <td>0</td>\n",
       "      <td>0</td>\n",
       "      <td>0</td>\n",
       "    </tr>\n",
       "    <tr>\n",
       "      <th>3</th>\n",
       "      <td>1</td>\n",
       "      <td>0</td>\n",
       "      <td>0</td>\n",
       "      <td>1</td>\n",
       "      <td>0</td>\n",
       "      <td>0</td>\n",
       "      <td>1</td>\n",
       "      <td>0</td>\n",
       "      <td>0</td>\n",
       "      <td>0</td>\n",
       "      <td>1</td>\n",
       "      <td>0</td>\n",
       "      <td>0</td>\n",
       "      <td>0</td>\n",
       "      <td>0</td>\n",
       "      <td>0</td>\n",
       "      <td>0</td>\n",
       "      <td>0</td>\n",
       "      <td>0</td>\n",
       "    </tr>\n",
       "    <tr>\n",
       "      <th>4</th>\n",
       "      <td>1</td>\n",
       "      <td>0</td>\n",
       "      <td>0</td>\n",
       "      <td>1</td>\n",
       "      <td>0</td>\n",
       "      <td>0</td>\n",
       "      <td>1</td>\n",
       "      <td>0</td>\n",
       "      <td>0</td>\n",
       "      <td>0</td>\n",
       "      <td>1</td>\n",
       "      <td>0</td>\n",
       "      <td>1</td>\n",
       "      <td>0</td>\n",
       "      <td>0</td>\n",
       "      <td>0</td>\n",
       "      <td>0</td>\n",
       "      <td>0</td>\n",
       "      <td>0</td>\n",
       "    </tr>\n",
       "  </tbody>\n",
       "</table>\n",
       "</div>"
      ],
      "text/plain": [
       "   sex_m  status_married  status_seeing someone  status_single  \\\n",
       "0      1               0                      0              1   \n",
       "1      1               0                      0              1   \n",
       "2      1               0                      0              0   \n",
       "3      1               0                      0              1   \n",
       "4      1               0                      0              1   \n",
       "\n",
       "   status_unknown  orientation_gay  orientation_straight  drinks_not at all  \\\n",
       "0               0                0                     1                  0   \n",
       "1               0                0                     1                  0   \n",
       "2               0                0                     1                  0   \n",
       "3               0                0                     1                  0   \n",
       "4               0                0                     1                  0   \n",
       "\n",
       "   drinks_often  drinks_rarely  drinks_socially  drinks_very often  \\\n",
       "0             0              0                1                  0   \n",
       "1             1              0                0                  0   \n",
       "2             0              0                1                  0   \n",
       "3             0              0                1                  0   \n",
       "4             0              0                1                  0   \n",
       "\n",
       "   drugs_never  drugs_often  drugs_sometimes  smokes_sometimes  \\\n",
       "0            1            0                0                 1   \n",
       "1            0            0                1                 0   \n",
       "2            0            0                0                 0   \n",
       "3            0            0                0                 0   \n",
       "4            1            0                0                 0   \n",
       "\n",
       "   smokes_trying to quit  smokes_when drinking  smokes_yes  \n",
       "0                      0                     0           0  \n",
       "1                      0                     0           0  \n",
       "2                      0                     0           0  \n",
       "3                      0                     0           0  \n",
       "4                      0                     0           0  "
      ]
     },
     "execution_count": 33,
     "metadata": {},
     "output_type": "execute_result"
    }
   ],
   "source": [
    "# Creating the dummies variables.\n",
    "X = pd.get_dummies(X, drop_first = True)\n",
    "print(X.shape)\n",
    "X.head()"
   ]
  },
  {
   "attachments": {},
   "cell_type": "markdown",
   "metadata": {},
   "source": [
    "### 5. Machine Learning Models. \n",
    "To try find the best way to predict the zodiac sign of the people in the dataset, I will proceed to train two classification models: \n",
    "1. KNeighborsClassifier\n",
    "2. DecisionTreeClassifier Model.  \n",
    "\n",
    "After that, will evaluate their performances using the confusion matrix  and the classification report."
   ]
  },
  {
   "cell_type": "code",
   "execution_count": 34,
   "metadata": {},
   "outputs": [
    {
     "name": "stdout",
     "output_type": "stream",
     "text": [
      "(35726, 19) (8932, 19) (35726,) (8932,)\n"
     ]
    }
   ],
   "source": [
    "X_train, X_test, y_train, y_test = train_test_split(X, y, random_state = 42, test_size = 0.2)\n",
    "print(X_train.shape, X_test.shape, y_train.shape, y_test.shape)"
   ]
  },
  {
   "attachments": {},
   "cell_type": "markdown",
   "metadata": {},
   "source": [
    "#### 1. KNN Model:\n",
    "Using the default hyperparameters values, this model had a 10% accuracy in the training dataset and 8% accuracy in the testing dataset. These values are not a good sign what means that the model does not capture any logic."
   ]
  },
  {
   "cell_type": "code",
   "execution_count": 35,
   "metadata": {},
   "outputs": [
    {
     "data": {
      "text/plain": [
       "KNeighborsClassifier(n_jobs=-1)"
      ]
     },
     "execution_count": 35,
     "metadata": {},
     "output_type": "execute_result"
    }
   ],
   "source": [
    "# Model\n",
    "knn_classifier = KNeighborsClassifier (n_neighbors = 5, n_jobs = -1)\n",
    "knn_classifier.fit(X_train, y_train)"
   ]
  },
  {
   "cell_type": "code",
   "execution_count": 36,
   "metadata": {},
   "outputs": [],
   "source": [
    "# Predictions\n",
    "knn_pred_train = knn_classifier.predict(X_train)\n",
    "knn_pred_test = knn_classifier.predict(X_test)"
   ]
  },
  {
   "cell_type": "code",
   "execution_count": 37,
   "metadata": {},
   "outputs": [
    {
     "name": "stdout",
     "output_type": "stream",
     "text": [
      "Train Prediction Report\n",
      "              precision    recall  f1-score   support\n",
      "\n",
      "    aquarius       0.10      0.16      0.12      2886\n",
      "       aries       0.08      0.35      0.14      2908\n",
      "      cancer       0.09      0.32      0.14      3099\n",
      "   capricorn       0.15      0.04      0.06      2612\n",
      "      gemini       0.10      0.10      0.10      3180\n",
      "         leo       0.18      0.03      0.05      3216\n",
      "       libra       0.16      0.02      0.04      3082\n",
      "      pisces       0.10      0.05      0.07      2867\n",
      " sagittarius       0.14      0.03      0.05      2843\n",
      "     scorpio       0.18      0.03      0.04      3013\n",
      "      taurus       0.24      0.02      0.04      2989\n",
      "       virgo       0.17      0.03      0.05      3031\n",
      "\n",
      "    accuracy                           0.10     35726\n",
      "   macro avg       0.14      0.10      0.08     35726\n",
      "weighted avg       0.14      0.10      0.08     35726\n",
      "\n"
     ]
    }
   ],
   "source": [
    "print('Train Prediction Report')\n",
    "print(classification_report(y_train, knn_pred_train))"
   ]
  },
  {
   "cell_type": "code",
   "execution_count": 38,
   "metadata": {},
   "outputs": [
    {
     "data": {
      "image/png": "[encoded data removed]",
      "text/plain": [
       "<Figure size 720x504 with 2 Axes>"
      ]
     },
     "metadata": {
      "needs_background": "light"
     },
     "output_type": "display_data"
    }
   ],
   "source": [
    "# Confusion Matrix -  Train set.\n",
    "cart_cm = confusion_matrix(y_train, knn_pred_train)\n",
    "cart_labels = knn_classifier.classes_\n",
    "\n",
    "plt.figure(figsize=(10,7))\n",
    "\n",
    "ax= plt.subplot()\n",
    "sns.heatmap(cart_cm, annot=True, ax = ax,fmt=\"d\");\n",
    "\n",
    "ax.set_xlabel('Predicted labels');\n",
    "ax.set_ylabel('True labels'); \n",
    "ax.set_title('Confusion Matrix');\n",
    "ax.yaxis.set_tick_params(rotation=360)\n",
    "ax.xaxis.set_tick_params(rotation=90)\n",
    "\n",
    "ax.xaxis.set_ticklabels(cart_labels); \n",
    "ax.yaxis.set_ticklabels(cart_labels);"
   ]
  },
  {
   "cell_type": "code",
   "execution_count": 39,
   "metadata": {},
   "outputs": [
    {
     "name": "stdout",
     "output_type": "stream",
     "text": [
      "Test Prediction Report\n",
      "              precision    recall  f1-score   support\n",
      "\n",
      "    aquarius       0.08      0.14      0.11       709\n",
      "       aries       0.08      0.35      0.14       741\n",
      "      cancer       0.08      0.30      0.13       739\n",
      "   capricorn       0.06      0.02      0.03       677\n",
      "      gemini       0.08      0.08      0.08       741\n",
      "         leo       0.09      0.01      0.02       793\n",
      "       libra       0.11      0.02      0.03       758\n",
      "      pisces       0.08      0.04      0.06       709\n",
      " sagittarius       0.06      0.01      0.02       738\n",
      "     scorpio       0.07      0.01      0.02       755\n",
      "      taurus       0.07      0.01      0.01       802\n",
      "       virgo       0.09      0.01      0.02       770\n",
      "\n",
      "    accuracy                           0.08      8932\n",
      "   macro avg       0.08      0.08      0.06      8932\n",
      "weighted avg       0.08      0.08      0.05      8932\n",
      "\n"
     ]
    }
   ],
   "source": [
    "print('Test Prediction Report')\n",
    "print(classification_report(y_test, knn_pred_test))"
   ]
  },
  {
   "cell_type": "code",
   "execution_count": 40,
   "metadata": {},
   "outputs": [
    {
     "data": {
      "image/png": "[encoded data removed]",
      "text/plain": [
       "<Figure size 720x504 with 2 Axes>"
      ]
     },
     "metadata": {
      "needs_background": "light"
     },
     "output_type": "display_data"
    }
   ],
   "source": [
    "# Confusion Matrix -  Test set.\n",
    "cart_cm = confusion_matrix(y_test, knn_pred_test)\n",
    "cart_labels = knn_classifier.classes_\n",
    "\n",
    "plt.figure(figsize=(10,7))\n",
    "\n",
    "ax= plt.subplot()\n",
    "sns.heatmap(cart_cm, annot=True, ax = ax,fmt=\"d\");\n",
    "\n",
    "ax.set_xlabel('Predicted labels');\n",
    "ax.set_ylabel('True labels'); \n",
    "ax.set_title('Confusion Matrix');\n",
    "ax.yaxis.set_tick_params(rotation=360)\n",
    "ax.xaxis.set_tick_params(rotation=90)\n",
    "\n",
    "ax.xaxis.set_ticklabels(cart_labels); \n",
    "ax.yaxis.set_ticklabels(cart_labels);"
   ]
  },
  {
   "cell_type": "markdown",
   "metadata": {},
   "source": [
    "#### 2.  Decision Tree Model:\n",
    "The default max_depth is None which means that it will \"If None, then nodes are expanded until all leaves are pure or until all leaves contain less than min_samples_split samples\". \n",
    "\n",
    "Going back to the model, a quick analysis will show that this tree model has a depth of 18 branches. In this model, the accuracy is not so different from the accuracy of knn model. However, it is higher. \n",
    "\n"
   ]
  },
  {
   "cell_type": "code",
   "execution_count": 41,
   "metadata": {},
   "outputs": [
    {
     "data": {
      "text/plain": [
       "DecisionTreeClassifier(random_state=42)"
      ]
     },
     "execution_count": 41,
     "metadata": {},
     "output_type": "execute_result"
    }
   ],
   "source": [
    "# Model\n",
    "tree_classifier = DecisionTreeClassifier(random_state = 42)\n",
    "tree_classifier.fit(X_train, y_train)"
   ]
  },
  {
   "cell_type": "code",
   "execution_count": 42,
   "metadata": {},
   "outputs": [],
   "source": [
    "# Predictions\n",
    "tree_pred_train = tree_classifier.predict(X_train)\n",
    "tree_pred_test = tree_classifier.predict(X_test)"
   ]
  },
  {
   "cell_type": "code",
   "execution_count": 43,
   "metadata": {},
   "outputs": [
    {
     "data": {
      "text/plain": [
       "18"
      ]
     },
     "execution_count": 43,
     "metadata": {},
     "output_type": "execute_result"
    }
   ],
   "source": [
    "# Depth \n",
    "tree_classifier.get_depth()"
   ]
  },
  {
   "cell_type": "code",
   "execution_count": 44,
   "metadata": {},
   "outputs": [
    {
     "name": "stdout",
     "output_type": "stream",
     "text": [
      "Train Prediction Report\n",
      "              precision    recall  f1-score   support\n",
      "\n",
      "    aquarius       0.19      0.09      0.12      2886\n",
      "       aries       0.14      0.12      0.13      2908\n",
      "      cancer       0.14      0.18      0.16      3099\n",
      "   capricorn       0.25      0.06      0.09      2612\n",
      "      gemini       0.20      0.08      0.12      3180\n",
      "         leo       0.11      0.33      0.16      3216\n",
      "       libra       0.11      0.32      0.16      3082\n",
      "      pisces       0.26      0.03      0.06      2867\n",
      " sagittarius       0.16      0.06      0.09      2843\n",
      "     scorpio       0.14      0.09      0.11      3013\n",
      "      taurus       0.19      0.07      0.10      2989\n",
      "       virgo       0.13      0.10      0.11      3031\n",
      "\n",
      "    accuracy                           0.13     35726\n",
      "   macro avg       0.17      0.13      0.12     35726\n",
      "weighted avg       0.17      0.13      0.12     35726\n",
      "\n"
     ]
    }
   ],
   "source": [
    "print('Train Prediction Report')\n",
    "print(classification_report(y_train, tree_pred_train))"
   ]
  },
  {
   "cell_type": "code",
   "execution_count": 45,
   "metadata": {},
   "outputs": [
    {
     "name": "stdout",
     "output_type": "stream",
     "text": [
      "Test Prediction Report\n",
      "              precision    recall  f1-score   support\n",
      "\n",
      "    aquarius       0.08      0.04      0.05       709\n",
      "       aries       0.07      0.06      0.07       741\n",
      "      cancer       0.08      0.11      0.09       739\n",
      "   capricorn       0.06      0.01      0.02       677\n",
      "      gemini       0.09      0.04      0.06       741\n",
      "         leo       0.09      0.27      0.13       793\n",
      "       libra       0.09      0.27      0.14       758\n",
      "      pisces       0.09      0.01      0.02       709\n",
      " sagittarius       0.06      0.02      0.03       738\n",
      "     scorpio       0.09      0.05      0.07       755\n",
      "      taurus       0.08      0.03      0.05       802\n",
      "       virgo       0.08      0.06      0.07       770\n",
      "\n",
      "    accuracy                           0.08      8932\n",
      "   macro avg       0.08      0.08      0.07      8932\n",
      "weighted avg       0.08      0.08      0.07      8932\n",
      "\n"
     ]
    }
   ],
   "source": [
    "print('Test Prediction Report')\n",
    "print(classification_report(y_test, tree_pred_test))"
   ]
  },
  {
   "cell_type": "markdown",
   "metadata": {},
   "source": [
    "#### Cross Validation\n",
    "Looking forward to seeing if these results are a consequence of the random sample choice, I will apply Cross Validation over the trained models. After that, I will choose between them and optimize the model who obtain the best accuracy score."
   ]
  },
  {
   "cell_type": "code",
   "execution_count": 46,
   "metadata": {},
   "outputs": [
    {
     "name": "stdout",
     "output_type": "stream",
     "text": [
      "[0.08284355 0.07893632 0.08229531 0.0829951  0.08145556]\n",
      "KNN Model - Baseline: 8.17% (0.15%)\n"
     ]
    }
   ],
   "source": [
    "# Cross Validation - KNN Model\n",
    "kfold = KFold(n_splits = 5, shuffle = True, random_state = 42)\n",
    "results = cross_val_score(knn_classifier, X_train, y_train, cv = kfold, scoring = 'accuracy')\n",
    "\n",
    "print(results)\n",
    "print(\"KNN Model - Baseline: %.2f%% (%.2f%%)\" % (results.mean()*100, results.std()*100))"
   ]
  },
  {
   "cell_type": "code",
   "execution_count": 47,
   "metadata": {},
   "outputs": [
    {
     "name": "stdout",
     "output_type": "stream",
     "text": [
      "[0.08536244 0.07991603 0.08327502 0.08747376 0.08369489]\n",
      "Decision Tree Model - Baseline: 8.39% (0.25%)\n"
     ]
    }
   ],
   "source": [
    "# Cross Validation - Tree Model\n",
    "kfold = KFold(n_splits = 5, shuffle = True, random_state = 42)\n",
    "results = cross_val_score(tree_classifier, X_train, y_train, cv = kfold, scoring = 'accuracy')\n",
    "\n",
    "print(results)\n",
    "print(\"Decision Tree Model - Baseline: %.2f%% (%.2f%%)\" % (results.mean()*100, results.std()*100))"
   ]
  },
  {
   "cell_type": "markdown",
   "metadata": {},
   "source": [
    "Looking at this results, the decision tree model will be made it again, but using GridSearch to optimize its hyperparameters. "
   ]
  },
  {
   "cell_type": "code",
   "execution_count": 48,
   "metadata": {},
   "outputs": [],
   "source": [
    "tree_class = DecisionTreeClassifier(random_state = 42)\n",
    "\n",
    "param_grid = {'criterion': ['gini', 'entropy'],\n",
    "             'splitter': ['best', 'random'],\n",
    "              'max_depth' : [5, 7, 10, 12, 15, None],\n",
    "              'min_samples_split' : [2, 3, 5, 10, 15]}"
   ]
  },
  {
   "cell_type": "code",
   "execution_count": 49,
   "metadata": {},
   "outputs": [
    {
     "data": {
      "text/plain": [
       "GridSearchCV(cv=5, estimator=DecisionTreeClassifier(random_state=42),\n",
       "             param_grid={'criterion': ['gini', 'entropy'],\n",
       "                         'max_depth': [5, 7, 10, 12, 15, None],\n",
       "                         'min_samples_split': [2, 3, 5, 10, 15],\n",
       "                         'splitter': ['best', 'random']})"
      ]
     },
     "execution_count": 49,
     "metadata": {},
     "output_type": "execute_result"
    }
   ],
   "source": [
    "model = GridSearchCV(tree_class, param_grid = param_grid, cv = 5)\n",
    "model.fit(X_train, y_train)"
   ]
  },
  {
   "cell_type": "code",
   "execution_count": 50,
   "metadata": {},
   "outputs": [
    {
     "name": "stdout",
     "output_type": "stream",
     "text": [
      "Mejores parametros: {'criterion': 'gini', 'max_depth': 5, 'min_samples_split': 2, 'splitter': 'best'}\n",
      "Mejor Score: 0.08794715517614518\n",
      "\n"
     ]
    },
    {
     "data": {
      "text/html": [
       "<div>\n",
       "<style scoped>\n",
       "    .dataframe tbody tr th:only-of-type {\n",
       "        vertical-align: middle;\n",
       "    }\n",
       "\n",
       "    .dataframe tbody tr th {\n",
       "        vertical-align: top;\n",
       "    }\n",
       "\n",
       "    .dataframe thead th {\n",
       "        text-align: right;\n",
       "    }\n",
       "</style>\n",
       "<table border=\"1\" class=\"dataframe\">\n",
       "  <thead>\n",
       "    <tr style=\"text-align: right;\">\n",
       "      <th></th>\n",
       "      <th>mean_fit_time</th>\n",
       "      <th>std_fit_time</th>\n",
       "      <th>mean_score_time</th>\n",
       "      <th>std_score_time</th>\n",
       "      <th>param_criterion</th>\n",
       "      <th>param_max_depth</th>\n",
       "      <th>param_min_samples_split</th>\n",
       "      <th>param_splitter</th>\n",
       "      <th>params</th>\n",
       "      <th>split0_test_score</th>\n",
       "      <th>split1_test_score</th>\n",
       "      <th>split2_test_score</th>\n",
       "      <th>split3_test_score</th>\n",
       "      <th>split4_test_score</th>\n",
       "      <th>mean_test_score</th>\n",
       "      <th>std_test_score</th>\n",
       "      <th>rank_test_score</th>\n",
       "    </tr>\n",
       "  </thead>\n",
       "  <tbody>\n",
       "    <tr>\n",
       "      <th>0</th>\n",
       "      <td>0.083361</td>\n",
       "      <td>0.004482</td>\n",
       "      <td>0.012189</td>\n",
       "      <td>0.002484</td>\n",
       "      <td>gini</td>\n",
       "      <td>5</td>\n",
       "      <td>2</td>\n",
       "      <td>best</td>\n",
       "      <td>{'criterion': 'gini', 'max_depth': 5, 'min_sam...</td>\n",
       "      <td>0.087881</td>\n",
       "      <td>0.084955</td>\n",
       "      <td>0.092652</td>\n",
       "      <td>0.084955</td>\n",
       "      <td>0.089293</td>\n",
       "      <td>0.087947</td>\n",
       "      <td>0.002894</td>\n",
       "      <td>1</td>\n",
       "    </tr>\n",
       "    <tr>\n",
       "      <th>1</th>\n",
       "      <td>0.074327</td>\n",
       "      <td>0.006707</td>\n",
       "      <td>0.013557</td>\n",
       "      <td>0.004644</td>\n",
       "      <td>gini</td>\n",
       "      <td>5</td>\n",
       "      <td>2</td>\n",
       "      <td>random</td>\n",
       "      <td>{'criterion': 'gini', 'max_depth': 5, 'min_sam...</td>\n",
       "      <td>0.087881</td>\n",
       "      <td>0.084815</td>\n",
       "      <td>0.092652</td>\n",
       "      <td>0.084955</td>\n",
       "      <td>0.089293</td>\n",
       "      <td>0.087919</td>\n",
       "      <td>0.002923</td>\n",
       "      <td>9</td>\n",
       "    </tr>\n",
       "    <tr>\n",
       "      <th>2</th>\n",
       "      <td>0.081628</td>\n",
       "      <td>0.003954</td>\n",
       "      <td>0.010169</td>\n",
       "      <td>0.000570</td>\n",
       "      <td>gini</td>\n",
       "      <td>5</td>\n",
       "      <td>3</td>\n",
       "      <td>best</td>\n",
       "      <td>{'criterion': 'gini', 'max_depth': 5, 'min_sam...</td>\n",
       "      <td>0.087881</td>\n",
       "      <td>0.084955</td>\n",
       "      <td>0.092652</td>\n",
       "      <td>0.084955</td>\n",
       "      <td>0.089293</td>\n",
       "      <td>0.087947</td>\n",
       "      <td>0.002894</td>\n",
       "      <td>1</td>\n",
       "    </tr>\n",
       "    <tr>\n",
       "      <th>3</th>\n",
       "      <td>0.074465</td>\n",
       "      <td>0.005496</td>\n",
       "      <td>0.011105</td>\n",
       "      <td>0.001063</td>\n",
       "      <td>gini</td>\n",
       "      <td>5</td>\n",
       "      <td>3</td>\n",
       "      <td>random</td>\n",
       "      <td>{'criterion': 'gini', 'max_depth': 5, 'min_sam...</td>\n",
       "      <td>0.087881</td>\n",
       "      <td>0.084815</td>\n",
       "      <td>0.092652</td>\n",
       "      <td>0.084955</td>\n",
       "      <td>0.089293</td>\n",
       "      <td>0.087919</td>\n",
       "      <td>0.002923</td>\n",
       "      <td>9</td>\n",
       "    </tr>\n",
       "    <tr>\n",
       "      <th>4</th>\n",
       "      <td>0.081963</td>\n",
       "      <td>0.003550</td>\n",
       "      <td>0.009183</td>\n",
       "      <td>0.001507</td>\n",
       "      <td>gini</td>\n",
       "      <td>5</td>\n",
       "      <td>5</td>\n",
       "      <td>best</td>\n",
       "      <td>{'criterion': 'gini', 'max_depth': 5, 'min_sam...</td>\n",
       "      <td>0.087881</td>\n",
       "      <td>0.084955</td>\n",
       "      <td>0.092652</td>\n",
       "      <td>0.084955</td>\n",
       "      <td>0.089293</td>\n",
       "      <td>0.087947</td>\n",
       "      <td>0.002894</td>\n",
       "      <td>1</td>\n",
       "    </tr>\n",
       "    <tr>\n",
       "      <th>...</th>\n",
       "      <td>...</td>\n",
       "      <td>...</td>\n",
       "      <td>...</td>\n",
       "      <td>...</td>\n",
       "      <td>...</td>\n",
       "      <td>...</td>\n",
       "      <td>...</td>\n",
       "      <td>...</td>\n",
       "      <td>...</td>\n",
       "      <td>...</td>\n",
       "      <td>...</td>\n",
       "      <td>...</td>\n",
       "      <td>...</td>\n",
       "      <td>...</td>\n",
       "      <td>...</td>\n",
       "      <td>...</td>\n",
       "      <td>...</td>\n",
       "    </tr>\n",
       "    <tr>\n",
       "      <th>115</th>\n",
       "      <td>0.091227</td>\n",
       "      <td>0.008187</td>\n",
       "      <td>0.013117</td>\n",
       "      <td>0.004551</td>\n",
       "      <td>entropy</td>\n",
       "      <td>None</td>\n",
       "      <td>5</td>\n",
       "      <td>random</td>\n",
       "      <td>{'criterion': 'entropy', 'max_depth': None, 'm...</td>\n",
       "      <td>0.081024</td>\n",
       "      <td>0.083975</td>\n",
       "      <td>0.090133</td>\n",
       "      <td>0.080476</td>\n",
       "      <td>0.080476</td>\n",
       "      <td>0.083217</td>\n",
       "      <td>0.003694</td>\n",
       "      <td>101</td>\n",
       "    </tr>\n",
       "    <tr>\n",
       "      <th>116</th>\n",
       "      <td>0.097781</td>\n",
       "      <td>0.003826</td>\n",
       "      <td>0.012650</td>\n",
       "      <td>0.002245</td>\n",
       "      <td>entropy</td>\n",
       "      <td>None</td>\n",
       "      <td>10</td>\n",
       "      <td>best</td>\n",
       "      <td>{'criterion': 'entropy', 'max_depth': None, 'm...</td>\n",
       "      <td>0.081584</td>\n",
       "      <td>0.083975</td>\n",
       "      <td>0.090833</td>\n",
       "      <td>0.080896</td>\n",
       "      <td>0.080336</td>\n",
       "      <td>0.083525</td>\n",
       "      <td>0.003859</td>\n",
       "      <td>77</td>\n",
       "    </tr>\n",
       "    <tr>\n",
       "      <th>117</th>\n",
       "      <td>0.112551</td>\n",
       "      <td>0.014550</td>\n",
       "      <td>0.014296</td>\n",
       "      <td>0.002412</td>\n",
       "      <td>entropy</td>\n",
       "      <td>None</td>\n",
       "      <td>10</td>\n",
       "      <td>random</td>\n",
       "      <td>{'criterion': 'entropy', 'max_depth': None, 'm...</td>\n",
       "      <td>0.081444</td>\n",
       "      <td>0.083975</td>\n",
       "      <td>0.089993</td>\n",
       "      <td>0.080756</td>\n",
       "      <td>0.080616</td>\n",
       "      <td>0.083357</td>\n",
       "      <td>0.003532</td>\n",
       "      <td>89</td>\n",
       "    </tr>\n",
       "    <tr>\n",
       "      <th>118</th>\n",
       "      <td>0.104697</td>\n",
       "      <td>0.004702</td>\n",
       "      <td>0.012437</td>\n",
       "      <td>0.001770</td>\n",
       "      <td>entropy</td>\n",
       "      <td>None</td>\n",
       "      <td>15</td>\n",
       "      <td>best</td>\n",
       "      <td>{'criterion': 'entropy', 'max_depth': None, 'm...</td>\n",
       "      <td>0.081724</td>\n",
       "      <td>0.084115</td>\n",
       "      <td>0.090973</td>\n",
       "      <td>0.080756</td>\n",
       "      <td>0.080336</td>\n",
       "      <td>0.083581</td>\n",
       "      <td>0.003921</td>\n",
       "      <td>76</td>\n",
       "    </tr>\n",
       "    <tr>\n",
       "      <th>119</th>\n",
       "      <td>0.101468</td>\n",
       "      <td>0.009975</td>\n",
       "      <td>0.010269</td>\n",
       "      <td>0.003069</td>\n",
       "      <td>entropy</td>\n",
       "      <td>None</td>\n",
       "      <td>15</td>\n",
       "      <td>random</td>\n",
       "      <td>{'criterion': 'entropy', 'max_depth': None, 'm...</td>\n",
       "      <td>0.081724</td>\n",
       "      <td>0.084115</td>\n",
       "      <td>0.090693</td>\n",
       "      <td>0.080756</td>\n",
       "      <td>0.080336</td>\n",
       "      <td>0.083525</td>\n",
       "      <td>0.003816</td>\n",
       "      <td>78</td>\n",
       "    </tr>\n",
       "  </tbody>\n",
       "</table>\n",
       "<p>120 rows × 17 columns</p>\n",
       "</div>"
      ],
      "text/plain": [
       "     mean_fit_time  std_fit_time  mean_score_time  std_score_time  \\\n",
       "0         0.083361      0.004482         0.012189        0.002484   \n",
       "1         0.074327      0.006707         0.013557        0.004644   \n",
       "2         0.081628      0.003954         0.010169        0.000570   \n",
       "3         0.074465      0.005496         0.011105        0.001063   \n",
       "4         0.081963      0.003550         0.009183        0.001507   \n",
       "..             ...           ...              ...             ...   \n",
       "115       0.091227      0.008187         0.013117        0.004551   \n",
       "116       0.097781      0.003826         0.012650        0.002245   \n",
       "117       0.112551      0.014550         0.014296        0.002412   \n",
       "118       0.104697      0.004702         0.012437        0.001770   \n",
       "119       0.101468      0.009975         0.010269        0.003069   \n",
       "\n",
       "    param_criterion param_max_depth param_min_samples_split param_splitter  \\\n",
       "0              gini               5                       2           best   \n",
       "1              gini               5                       2         random   \n",
       "2              gini               5                       3           best   \n",
       "3              gini               5                       3         random   \n",
       "4              gini               5                       5           best   \n",
       "..              ...             ...                     ...            ...   \n",
       "115         entropy            None                       5         random   \n",
       "116         entropy            None                      10           best   \n",
       "117         entropy            None                      10         random   \n",
       "118         entropy            None                      15           best   \n",
       "119         entropy            None                      15         random   \n",
       "\n",
       "                                                params  split0_test_score  \\\n",
       "0    {'criterion': 'gini', 'max_depth': 5, 'min_sam...           0.087881   \n",
       "1    {'criterion': 'gini', 'max_depth': 5, 'min_sam...           0.087881   \n",
       "2    {'criterion': 'gini', 'max_depth': 5, 'min_sam...           0.087881   \n",
       "3    {'criterion': 'gini', 'max_depth': 5, 'min_sam...           0.087881   \n",
       "4    {'criterion': 'gini', 'max_depth': 5, 'min_sam...           0.087881   \n",
       "..                                                 ...                ...   \n",
       "115  {'criterion': 'entropy', 'max_depth': None, 'm...           0.081024   \n",
       "116  {'criterion': 'entropy', 'max_depth': None, 'm...           0.081584   \n",
       "117  {'criterion': 'entropy', 'max_depth': None, 'm...           0.081444   \n",
       "118  {'criterion': 'entropy', 'max_depth': None, 'm...           0.081724   \n",
       "119  {'criterion': 'entropy', 'max_depth': None, 'm...           0.081724   \n",
       "\n",
       "     split1_test_score  split2_test_score  split3_test_score  \\\n",
       "0             0.084955           0.092652           0.084955   \n",
       "1             0.084815           0.092652           0.084955   \n",
       "2             0.084955           0.092652           0.084955   \n",
       "3             0.084815           0.092652           0.084955   \n",
       "4             0.084955           0.092652           0.084955   \n",
       "..                 ...                ...                ...   \n",
       "115           0.083975           0.090133           0.080476   \n",
       "116           0.083975           0.090833           0.080896   \n",
       "117           0.083975           0.089993           0.080756   \n",
       "118           0.084115           0.090973           0.080756   \n",
       "119           0.084115           0.090693           0.080756   \n",
       "\n",
       "     split4_test_score  mean_test_score  std_test_score  rank_test_score  \n",
       "0             0.089293         0.087947        0.002894                1  \n",
       "1             0.089293         0.087919        0.002923                9  \n",
       "2             0.089293         0.087947        0.002894                1  \n",
       "3             0.089293         0.087919        0.002923                9  \n",
       "4             0.089293         0.087947        0.002894                1  \n",
       "..                 ...              ...             ...              ...  \n",
       "115           0.080476         0.083217        0.003694              101  \n",
       "116           0.080336         0.083525        0.003859               77  \n",
       "117           0.080616         0.083357        0.003532               89  \n",
       "118           0.080336         0.083581        0.003921               76  \n",
       "119           0.080336         0.083525        0.003816               78  \n",
       "\n",
       "[120 rows x 17 columns]"
      ]
     },
     "execution_count": 50,
     "metadata": {},
     "output_type": "execute_result"
    }
   ],
   "source": [
    "print(\"Mejores parametros: \"+ str(model.best_params_))\n",
    "print(\"Mejor Score: \"+ str(model.best_score_)+'\\n')\n",
    "scores = pd.DataFrame(model.cv_results_)\n",
    "scores"
   ]
  },
  {
   "cell_type": "code",
   "execution_count": 51,
   "metadata": {},
   "outputs": [
    {
     "data": {
      "text/html": [
       "<div>\n",
       "<style scoped>\n",
       "    .dataframe tbody tr th:only-of-type {\n",
       "        vertical-align: middle;\n",
       "    }\n",
       "\n",
       "    .dataframe tbody tr th {\n",
       "        vertical-align: top;\n",
       "    }\n",
       "\n",
       "    .dataframe thead th {\n",
       "        text-align: right;\n",
       "    }\n",
       "</style>\n",
       "<table border=\"1\" class=\"dataframe\">\n",
       "  <thead>\n",
       "    <tr style=\"text-align: right;\">\n",
       "      <th></th>\n",
       "      <th>mean_fit_time</th>\n",
       "      <th>std_fit_time</th>\n",
       "      <th>mean_score_time</th>\n",
       "      <th>std_score_time</th>\n",
       "      <th>param_criterion</th>\n",
       "      <th>param_max_depth</th>\n",
       "      <th>param_min_samples_split</th>\n",
       "      <th>param_splitter</th>\n",
       "      <th>params</th>\n",
       "      <th>split0_test_score</th>\n",
       "      <th>split1_test_score</th>\n",
       "      <th>split2_test_score</th>\n",
       "      <th>split3_test_score</th>\n",
       "      <th>split4_test_score</th>\n",
       "      <th>mean_test_score</th>\n",
       "      <th>std_test_score</th>\n",
       "      <th>rank_test_score</th>\n",
       "    </tr>\n",
       "  </thead>\n",
       "  <tbody>\n",
       "    <tr>\n",
       "      <th>0</th>\n",
       "      <td>0.083361</td>\n",
       "      <td>0.004482</td>\n",
       "      <td>0.012189</td>\n",
       "      <td>0.002484</td>\n",
       "      <td>gini</td>\n",
       "      <td>5</td>\n",
       "      <td>2</td>\n",
       "      <td>best</td>\n",
       "      <td>{'criterion': 'gini', 'max_depth': 5, 'min_sam...</td>\n",
       "      <td>0.087881</td>\n",
       "      <td>0.084955</td>\n",
       "      <td>0.092652</td>\n",
       "      <td>0.084955</td>\n",
       "      <td>0.089293</td>\n",
       "      <td>0.087947</td>\n",
       "      <td>0.002894</td>\n",
       "      <td>1</td>\n",
       "    </tr>\n",
       "    <tr>\n",
       "      <th>1</th>\n",
       "      <td>0.074327</td>\n",
       "      <td>0.006707</td>\n",
       "      <td>0.013557</td>\n",
       "      <td>0.004644</td>\n",
       "      <td>gini</td>\n",
       "      <td>5</td>\n",
       "      <td>2</td>\n",
       "      <td>random</td>\n",
       "      <td>{'criterion': 'gini', 'max_depth': 5, 'min_sam...</td>\n",
       "      <td>0.087881</td>\n",
       "      <td>0.084815</td>\n",
       "      <td>0.092652</td>\n",
       "      <td>0.084955</td>\n",
       "      <td>0.089293</td>\n",
       "      <td>0.087919</td>\n",
       "      <td>0.002923</td>\n",
       "      <td>9</td>\n",
       "    </tr>\n",
       "    <tr>\n",
       "      <th>2</th>\n",
       "      <td>0.081628</td>\n",
       "      <td>0.003954</td>\n",
       "      <td>0.010169</td>\n",
       "      <td>0.000570</td>\n",
       "      <td>gini</td>\n",
       "      <td>5</td>\n",
       "      <td>3</td>\n",
       "      <td>best</td>\n",
       "      <td>{'criterion': 'gini', 'max_depth': 5, 'min_sam...</td>\n",
       "      <td>0.087881</td>\n",
       "      <td>0.084955</td>\n",
       "      <td>0.092652</td>\n",
       "      <td>0.084955</td>\n",
       "      <td>0.089293</td>\n",
       "      <td>0.087947</td>\n",
       "      <td>0.002894</td>\n",
       "      <td>1</td>\n",
       "    </tr>\n",
       "    <tr>\n",
       "      <th>3</th>\n",
       "      <td>0.074465</td>\n",
       "      <td>0.005496</td>\n",
       "      <td>0.011105</td>\n",
       "      <td>0.001063</td>\n",
       "      <td>gini</td>\n",
       "      <td>5</td>\n",
       "      <td>3</td>\n",
       "      <td>random</td>\n",
       "      <td>{'criterion': 'gini', 'max_depth': 5, 'min_sam...</td>\n",
       "      <td>0.087881</td>\n",
       "      <td>0.084815</td>\n",
       "      <td>0.092652</td>\n",
       "      <td>0.084955</td>\n",
       "      <td>0.089293</td>\n",
       "      <td>0.087919</td>\n",
       "      <td>0.002923</td>\n",
       "      <td>9</td>\n",
       "    </tr>\n",
       "    <tr>\n",
       "      <th>4</th>\n",
       "      <td>0.081963</td>\n",
       "      <td>0.003550</td>\n",
       "      <td>0.009183</td>\n",
       "      <td>0.001507</td>\n",
       "      <td>gini</td>\n",
       "      <td>5</td>\n",
       "      <td>5</td>\n",
       "      <td>best</td>\n",
       "      <td>{'criterion': 'gini', 'max_depth': 5, 'min_sam...</td>\n",
       "      <td>0.087881</td>\n",
       "      <td>0.084955</td>\n",
       "      <td>0.092652</td>\n",
       "      <td>0.084955</td>\n",
       "      <td>0.089293</td>\n",
       "      <td>0.087947</td>\n",
       "      <td>0.002894</td>\n",
       "      <td>1</td>\n",
       "    </tr>\n",
       "  </tbody>\n",
       "</table>\n",
       "</div>"
      ],
      "text/plain": [
       "   mean_fit_time  std_fit_time  mean_score_time  std_score_time  \\\n",
       "0       0.083361      0.004482         0.012189        0.002484   \n",
       "1       0.074327      0.006707         0.013557        0.004644   \n",
       "2       0.081628      0.003954         0.010169        0.000570   \n",
       "3       0.074465      0.005496         0.011105        0.001063   \n",
       "4       0.081963      0.003550         0.009183        0.001507   \n",
       "\n",
       "  param_criterion param_max_depth param_min_samples_split param_splitter  \\\n",
       "0            gini               5                       2           best   \n",
       "1            gini               5                       2         random   \n",
       "2            gini               5                       3           best   \n",
       "3            gini               5                       3         random   \n",
       "4            gini               5                       5           best   \n",
       "\n",
       "                                              params  split0_test_score  \\\n",
       "0  {'criterion': 'gini', 'max_depth': 5, 'min_sam...           0.087881   \n",
       "1  {'criterion': 'gini', 'max_depth': 5, 'min_sam...           0.087881   \n",
       "2  {'criterion': 'gini', 'max_depth': 5, 'min_sam...           0.087881   \n",
       "3  {'criterion': 'gini', 'max_depth': 5, 'min_sam...           0.087881   \n",
       "4  {'criterion': 'gini', 'max_depth': 5, 'min_sam...           0.087881   \n",
       "\n",
       "   split1_test_score  split2_test_score  split3_test_score  split4_test_score  \\\n",
       "0           0.084955           0.092652           0.084955           0.089293   \n",
       "1           0.084815           0.092652           0.084955           0.089293   \n",
       "2           0.084955           0.092652           0.084955           0.089293   \n",
       "3           0.084815           0.092652           0.084955           0.089293   \n",
       "4           0.084955           0.092652           0.084955           0.089293   \n",
       "\n",
       "   mean_test_score  std_test_score  rank_test_score  \n",
       "0         0.087947        0.002894                1  \n",
       "1         0.087919        0.002923                9  \n",
       "2         0.087947        0.002894                1  \n",
       "3         0.087919        0.002923                9  \n",
       "4         0.087947        0.002894                1  "
      ]
     },
     "execution_count": 51,
     "metadata": {},
     "output_type": "execute_result"
    }
   ],
   "source": [
    "scores.head()"
   ]
  },
  {
   "cell_type": "markdown",
   "metadata": {},
   "source": [
    "### Conclusion\n",
    "#### General Comments\n",
    "In this project machine learning was used to try to predict the zodiac signs of OkCupid users. This is an important feature since many people believe in astrology and matches between compatible star signs. However, the trained models could not capture the logic inside the chosen data. So, I can conclude that those models are underfitted and they are not good for predictions. \n",
    "\n",
    "Since the results obtained with the trained models are not the best, I have decided not to continue with the prediction of the zodiac signs of the users that are included in the validation set.\n",
    "\n",
    "\n",
    "#### Next Steps\n",
    "Next steps will be to seriously consider whether it is possible to predict user's astrological signs, or if there is a way to do it aggregating more data. Another possibility is to add additional models to see if any more predictive power could be squeezed out of the algorithms."
   ]
  }
 ],
 "metadata": {
  "kernelspec": {
   "display_name": "Python 3",
   "language": "python",
   "name": "python3"
  },
  "language_info": {
   "codemirror_mode": {
    "name": "ipython",
    "version": 3
   },
   "file_extension": ".py",
   "mimetype": "text/x-python",
   "name": "python",
   "nbconvert_exporter": "python",
   "pygments_lexer": "ipython3",
   "version": "3.8.3"
  }
 },
 "nbformat": 4,
 "nbformat_minor": 4
}
